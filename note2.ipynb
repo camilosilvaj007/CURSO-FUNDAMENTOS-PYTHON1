{
  "nbformat": 4,
  "nbformat_minor": 0,
  "metadata": {
    "colab": {
      "provenance": []
    },
    "kernelspec": {
      "name": "python3",
      "display_name": "Python 3"
    },
    "language_info": {
      "name": "python"
    }
  },
  "cells": [
    {
      "cell_type": "markdown",
      "source": [
        "**ESTRUCTURAS DE CONTROL EN PYTHON**\n"
      ],
      "metadata": {
        "id": "lR18HJLayZMd"
      }
    },
    {
      "cell_type": "markdown",
      "source": [
        "**La sentencia condicional IF**"
      ],
      "metadata": {
        "id": "R6Lhvw2b-N1f"
      }
    },
    {
      "cell_type": "code",
      "source": [
        "edad = int(input(\"ingrese su edad:\"))\n",
        "\n",
        "if edad >= 18:\n",
        "  print(\"usted es mayor de edad y puede votar\")"
      ],
      "metadata": {
        "id": "rf8r3TSQ-KaE"
      },
      "execution_count": null,
      "outputs": []
    },
    {
      "cell_type": "markdown",
      "source": [
        "**Condicionales dobles**\n"
      ],
      "metadata": {
        "id": "HIxO3kBN-VAA"
      }
    },
    {
      "cell_type": "code",
      "source": [
        "if condicion:\n",
        "    codigo\n",
        "    codigo\n",
        "else:\n",
        "    codigo\n",
        "    codigo"
      ],
      "metadata": {
        "id": "zApc4uKV9hkv"
      },
      "execution_count": null,
      "outputs": []
    },
    {
      "cell_type": "code",
      "source": [
        "edad = int(input(\"Ingrese su edad: \"))\n",
        "\n",
        "if edad >= 18:\n",
        "    print(\"Usted es mayor de edad y puede votar\")\n",
        "else:\n",
        "    print(\"Usted es menor de edad y no puede votar\")\n",
        "\n",
        "print(\"Fin del programa, ¡viva la democracia!\")"
      ],
      "metadata": {
        "colab": {
          "base_uri": "https://localhost:8080/"
        },
        "id": "mVApKGcH93ae",
        "outputId": "f1c87790-1320-4c89-ce05-b1a952514392"
      },
      "execution_count": null,
      "outputs": [
        {
          "output_type": "stream",
          "name": "stdout",
          "text": [
            "Ingrese su edad: 18\n",
            "Usted es mayor de edad y puede votar\n",
            "Fin del programa, ¡viva la democracia!\n"
          ]
        }
      ]
    },
    {
      "cell_type": "code",
      "source": [
        "fruta = input(\"Ingrese el nombre de la fruta: \")\n",
        "\n",
        "if fruta == \"banano\":\n",
        "    print(\"El nombre de la fruta es banano\")\n",
        "elif fruta == \"manzana\":\n",
        "    print(\"El nombre de la fruta es manzana\")\n",
        "elif fruta == \"pera\":\n",
        "    print(\"El nombre de la fruta es pera\")\n",
        "elif fruta == \"uva\":\n",
        "    print(\"El nombre de la fruta es uva\")\n",
        "else:\n",
        "    print(\"El nombre de la fruta no es banano, manzana, pera o uva. Fruta no reconocida.\")"
      ],
      "metadata": {
        "colab": {
          "base_uri": "https://localhost:8080/"
        },
        "id": "XOiTpfX1-nUe",
        "outputId": "82a687b0-c98f-41e4-d594-5ab00430a0dd"
      },
      "execution_count": null,
      "outputs": [
        {
          "output_type": "stream",
          "name": "stdout",
          "text": [
            "Ingrese el nombre de la fruta: pera\n",
            "El nombre de la fruta es pera\n"
          ]
        }
      ]
    },
    {
      "cell_type": "code",
      "source": [
        "edad = int(input(\"Ingrese su edad: \"))\n",
        "\n",
        "if edad >= 18:\n",
        "    print(\"Usted es mayor de edad y puede votar\")\n",
        "\n",
        "    if edad >= 21:\n",
        "        print(\"Usted es mayor de edad y puede beber\")\n",
        "    else:\n",
        "        print(\"Usted es mayor de edad pero no puede beber\")"
      ],
      "metadata": {
        "colab": {
          "base_uri": "https://localhost:8080/"
        },
        "id": "eYhLFrqp-14H",
        "outputId": "d29d859c-4a36-4c88-caf5-ce968ad32476"
      },
      "execution_count": null,
      "outputs": [
        {
          "output_type": "stream",
          "name": "stdout",
          "text": [
            "Ingrese su edad: 18\n",
            "Usted es mayor de edad y puede votar\n",
            "Usted es mayor de edad pero no puede beber\n"
          ]
        }
      ]
    },
    {
      "cell_type": "markdown",
      "source": [
        "**Puedes identificar que pasa e n el siguiente codigo con una persona**\n",
        "\n",
        "Soltera, linda de 20 años y no es buena persona\n",
        "Buena persona, no linda, soltera y de 45 años?\n",
        "Soltera de 31 años, no buena persona y linda\n",
        "Casada, de 25 años, linda y buena persona\n",
        "Si esta soltera linda de 20 años y es buena persona se cas si es casda es linda de 20 años no se casa ni se compromete si es soltera no es linda de 20 años es buena persona"
      ],
      "metadata": {
        "id": "Ha9ZEQD0-3UD"
      }
    },
    {
      "cell_type": "code",
      "source": [
        "estado_civil = input(\"Ingrese el estado civil (soltera, casada):\")\n",
        "edad = int(input(\"Ingrese la edad\"))\n",
        "buena_persona = input(\"Ingrese si es buena persona (si/no)\")\n",
        "linda = input(\"Ingrese si es linda (si/no)\")\n",
        "\n",
        "if estado_civil == \"soltera\":\n",
        "  print(\"Ni me caso Ni me comprometo\")\n",
        "elif edad <= 30 and buena_persona == \"Si\" and linda == \"Si\":\n",
        "  print(\"Me comprometo\")\n",
        "else:\n",
        "  print(\"No me comprometo\")"
      ],
      "metadata": {
        "colab": {
          "base_uri": "https://localhost:8080/"
        },
        "id": "fc8QEHRn_RzA",
        "outputId": "c4deb035-5e76-4a23-c1ac-16e35513cf97"
      },
      "execution_count": null,
      "outputs": [
        {
          "output_type": "stream",
          "name": "stdout",
          "text": [
            "Ingrese el estado civil (soltera, casada):soltera\n",
            "Ingrese la edad25\n",
            "Ingrese si es buena persona (si/no)no\n",
            "Ingrese si es linda (si/no)noi\n",
            "Ni me caso Ni me comprometo\n"
          ]
        }
      ]
    },
    {
      "cell_type": "markdown",
      "source": [
        "**EJERCICIOS DE AROPIACION**\n",
        "\n"
      ],
      "metadata": {
        "id": "6vuCuApeAE1_"
      }
    },
    {
      "cell_type": "markdown",
      "source": [
        "1. En un sistema de automatizacion industrail, un motor puede estar encendido o apagado. si la temperatura de la maquina supera los 80 grados, el motor debe apagarse automaticamente. Escribir un programa que controle el estado del motor y lo apague si la temperatura supera los 80 grados."
      ],
      "metadata": {
        "id": "8fvX6vkqAQf2"
      }
    },
    {
      "cell_type": "code",
      "source": [
        "Estado_del_motor = input (\" ingrese el estado del motor  ( encendido, apagado ) :\")\n",
        "temperatura = int (input(\" ingrese la temperatura del motor \"))\n",
        "\n",
        "if Estado_del_motor == \"encendido\" and temperatura > 80 :\n",
        "  print(\" el motor se apagara debido a su temperatura \")\n",
        "  Estado_del_motor == \"apagado\"\n",
        "\n",
        "else: (\" el motor sigue en su estado actual. \")"
      ],
      "metadata": {
        "colab": {
          "base_uri": "https://localhost:8080/"
        },
        "id": "h0OAwEUKBPcm",
        "outputId": "2298cba3-7563-445a-f7d0-cd1a5126448d"
      },
      "execution_count": null,
      "outputs": [
        {
          "output_type": "stream",
          "name": "stdout",
          "text": [
            " ingrese el estado del motor  ( encendido, apagado ) :encendido\n",
            " ingrese la temperatura del motor 88\n",
            " el motor se apagara debido a su temperatura \n"
          ]
        }
      ]
    },
    {
      "cell_type": "markdown",
      "source": [
        "2. Una universidad ofrece un descuento a los estudiantes que dependen del estrato debido a su edad. Si su estrato es 1 y es monor a 18 del descuento sera del 20% sobre el valor de la matricula. Si es del estrato 1 y tiene 18 o mas años,el descuento sera del 15%. Si el estrato es 2 y es menor de 18 años, el descuento sera del 10% y si el estrato es 2 y tiene mas de 18 años o  mas, el descuento sera de 5%.\n",
        "**Escribir el precio que debera pagar un estudiante por su matricula y el valor del descuento**"
      ],
      "metadata": {
        "id": "iCJkLhK4Gk7-"
      }
    },
    {
      "cell_type": "code",
      "source": [
        "Edad = int(input(\"Ingrese la edad del estudiante: \"))\n",
        "Estrato = int(input(\"Ingrese el estrato del estudiante: \"))\n",
        "Valor = int(input(\"Ingrese el valor de la matricula: \"))\n",
        "\n",
        "if Estrato == 1 and Edad < 18:\n",
        "      print(\"El descuento es del 20%\")\n",
        "elif Estrato == 1 and Edad >= 18:\n",
        "      print(\"El descuento es del 15%\")\n",
        "elif Estrato == 2 and Edad < 18:\n",
        "        print(\"El descuento es del 10%\")\n",
        "elif Estrato == 2 and Edad >= 18:\n",
        "        print(\"El descuento es del 5%\")\n",
        "else:\n",
        "     print(\"No hay descuento\")"
      ],
      "metadata": {
        "colab": {
          "base_uri": "https://localhost:8080/"
        },
        "id": "iu3WBGPvLTs2",
        "outputId": "c0fe4118-b953-478e-f5e2-16ff33ce657c"
      },
      "execution_count": null,
      "outputs": [
        {
          "output_type": "stream",
          "name": "stdout",
          "text": [
            "Ingrese la edad del estudiante: 17\n",
            "Ingrese el estrato del estudiante: 1\n",
            "Ingrese el valor de la matricula: 5000000\n",
            "El descuento es del 20%\n"
          ]
        }
      ]
    },
    {
      "cell_type": "markdown",
      "source": [
        "3. Un estudiante de control de calidad, se deben inspeccionar las piezas de un producto para determinar si cumplen los estandares de calidad. Si la pieza es defectuosa, se debe marcar como rechazada y enviar un alerta al operador. si la pieza cumple con los estandares de calidad, se debe marcar como aprobada y continuar con la produccion.\n",
        "\n",
        "**Realice un programa que lea una entrada binaria en la que los 1s signifiquen estandares de calidad cumplidos y los 0s significan estandares de calidad NO cumplidos. El propgrama debe rechazar la pieza ante cualquien estandar no cumplido.**"
      ],
      "metadata": {
        "id": "4H9FyRFSI0KL"
      }
    },
    {
      "cell_type": "code",
      "source": [
        "binario = input(\"Ingrese el binario de la pieza:\")\n",
        "aprobable = \"1\"\n",
        "defectuosa = \"0\"\n",
        "if binario == aprobable:\n",
        "    print(\"La pieza cumple con los estándares de calidad y se marcará como aprobable.\")\n",
        "    print(\"Continuará con la producción.\")\n",
        "elif binario == defectuosa:\n",
        "        print(\"La pieza es defectuosa y se marcará como rechazada.\")\n",
        "        print(\"Se enviará una alerta al operador.\")\n",
        "else:\n",
        "    print(\"Binario no reconocido.\")\n",
        "    print(\"Por favor, ingrese un binario válido (1 o 0).\")"
      ],
      "metadata": {
        "id": "PWA9WvkWKvT5"
      },
      "execution_count": null,
      "outputs": []
    },
    {
      "cell_type": "markdown",
      "source": [
        "**LOS CICLOS**\n"
      ],
      "metadata": {
        "id": "7VqlkHYYesIg"
      }
    },
    {
      "cell_type": "markdown",
      "source": [
        "**ciclo while**"
      ],
      "metadata": {
        "id": "rOHei6twe7AV"
      }
    },
    {
      "cell_type": "code",
      "source": [
        "while condicion:\n",
        "  codigo\n",
        "  codigo"
      ],
      "metadata": {
        "id": "VsvSDcxwfBTd"
      },
      "execution_count": null,
      "outputs": []
    },
    {
      "cell_type": "code",
      "source": [
        "\n",
        " x=1\n",
        " while x <=5:\n",
        "  print (x)\n",
        "  x+=1\n"
      ],
      "metadata": {
        "colab": {
          "base_uri": "https://localhost:8080/"
        },
        "id": "8_I1KvblfHVG",
        "outputId": "257b10eb-6be4-429f-ac1a-af44d68e8d55"
      },
      "execution_count": null,
      "outputs": [
        {
          "output_type": "stream",
          "name": "stdout",
          "text": [
            "1\n",
            "2\n",
            "3\n",
            "4\n",
            "5\n"
          ]
        }
      ]
    },
    {
      "cell_type": "code",
      "source": [
        "color = \"rojo\"\n",
        "while color != \"verde\":\n",
        "  color = input(\"ingrese el color\")\n",
        "  print(\"el color seleccionado fue:\", color)"
      ],
      "metadata": {
        "colab": {
          "base_uri": "https://localhost:8080/"
        },
        "id": "nsrxcZ5ngIQx",
        "outputId": "0aa3dcfb-4447-4d11-f963-90fdf65ab540"
      },
      "execution_count": null,
      "outputs": [
        {
          "output_type": "stream",
          "name": "stdout",
          "text": [
            "ingrese el colorrojo\n",
            "el color seleccionado fue: rojo\n",
            "ingrese el colorverde\n",
            "el color seleccionado fue: verde\n"
          ]
        }
      ]
    },
    {
      "cell_type": "markdown",
      "source": [
        "**ciclo for**"
      ],
      "metadata": {
        "id": "iyTxf8FfhvpN"
      }
    },
    {
      "cell_type": "code",
      "source": [
        "for varaible in Iterable\n",
        "  codigo\n",
        "  codigo"
      ],
      "metadata": {
        "id": "2eNEY8rFh1GL"
      },
      "execution_count": null,
      "outputs": []
    },
    {
      "cell_type": "code",
      "source": [
        "for x in range (5):\n",
        "  print(\"hola\", x+1)"
      ],
      "metadata": {
        "colab": {
          "base_uri": "https://localhost:8080/"
        },
        "id": "IrOoNFPCiBpe",
        "outputId": "54614034-b6b5-4609-f6e9-2be8ace6cd01"
      },
      "execution_count": null,
      "outputs": [
        {
          "output_type": "stream",
          "name": "stdout",
          "text": [
            "hola 1\n",
            "hola 2\n",
            "hola 3\n",
            "hola 4\n",
            "hola 5\n"
          ]
        }
      ]
    },
    {
      "cell_type": "code",
      "source": [
        "for x in range (1,11,2):\n",
        "  print(x)"
      ],
      "metadata": {
        "colab": {
          "base_uri": "https://localhost:8080/"
        },
        "id": "_UxzmmKll9_f",
        "outputId": "ba2054c4-f109-42ed-ed3c-f07794731950"
      },
      "execution_count": null,
      "outputs": [
        {
          "output_type": "stream",
          "name": "stdout",
          "text": [
            "1\n",
            "3\n",
            "5\n",
            "7\n",
            "9\n"
          ]
        }
      ]
    },
    {
      "cell_type": "code",
      "source": [
        "for x in range (0,5,1):\n",
        "  print(x)"
      ],
      "metadata": {
        "colab": {
          "base_uri": "https://localhost:8080/"
        },
        "id": "nJjcrdecmIlA",
        "outputId": "a8c93dde-c2f9-4b4d-c3eb-d664671a3dda"
      },
      "execution_count": null,
      "outputs": [
        {
          "output_type": "stream",
          "name": "stdout",
          "text": [
            "0\n",
            "1\n",
            "2\n",
            "3\n",
            "4\n"
          ]
        }
      ]
    },
    {
      "cell_type": "code",
      "source": [
        "for x in range (10):\n",
        "  print(x)"
      ],
      "metadata": {
        "colab": {
          "base_uri": "https://localhost:8080/"
        },
        "id": "QsxzuyT8mMau",
        "outputId": "ea561dc9-b239-4229-8f98-bb1d29c5043d"
      },
      "execution_count": null,
      "outputs": [
        {
          "output_type": "stream",
          "name": "stdout",
          "text": [
            "0\n",
            "1\n",
            "2\n",
            "3\n",
            "4\n",
            "5\n",
            "6\n",
            "7\n",
            "8\n",
            "9\n"
          ]
        }
      ]
    },
    {
      "cell_type": "code",
      "source": [
        "for x in range (9,0,-1):\n",
        "  print(x)"
      ],
      "metadata": {
        "colab": {
          "base_uri": "https://localhost:8080/"
        },
        "id": "310eq9HMmW37",
        "outputId": "2d58b557-7a74-4c29-caf9-ce95a3828ad2"
      },
      "execution_count": null,
      "outputs": [
        {
          "output_type": "stream",
          "name": "stdout",
          "text": [
            "9\n",
            "8\n",
            "7\n",
            "6\n",
            "5\n",
            "4\n",
            "3\n",
            "2\n",
            "1\n"
          ]
        }
      ]
    },
    {
      "cell_type": "code",
      "source": [
        "for x in range (3,100,3):\n",
        "  print(x)"
      ],
      "metadata": {
        "colab": {
          "base_uri": "https://localhost:8080/"
        },
        "id": "IUMZgNkDmh4i",
        "outputId": "f5dabea8-fd47-4561-f1da-2974e4c54b43"
      },
      "execution_count": null,
      "outputs": [
        {
          "output_type": "stream",
          "name": "stdout",
          "text": [
            "3\n",
            "6\n",
            "9\n",
            "12\n",
            "15\n",
            "18\n",
            "21\n",
            "24\n",
            "27\n",
            "30\n",
            "33\n",
            "36\n",
            "39\n",
            "42\n",
            "45\n",
            "48\n",
            "51\n",
            "54\n",
            "57\n",
            "60\n",
            "63\n",
            "66\n",
            "69\n",
            "72\n",
            "75\n",
            "78\n",
            "81\n",
            "84\n",
            "87\n",
            "90\n",
            "93\n",
            "96\n",
            "99\n"
          ]
        }
      ]
    },
    {
      "cell_type": "code",
      "source": [
        "for x in range (2,100,2):\n",
        "  print(x)"
      ],
      "metadata": {
        "colab": {
          "base_uri": "https://localhost:8080/"
        },
        "id": "SJnXPjPJmn2h",
        "outputId": "5b5f57b2-9a73-4bdb-ce77-9e4ab0ff64fd"
      },
      "execution_count": null,
      "outputs": [
        {
          "output_type": "stream",
          "name": "stdout",
          "text": [
            "2\n",
            "4\n",
            "6\n",
            "8\n",
            "10\n",
            "12\n",
            "14\n",
            "16\n",
            "18\n",
            "20\n",
            "22\n",
            "24\n",
            "26\n",
            "28\n",
            "30\n",
            "32\n",
            "34\n",
            "36\n",
            "38\n",
            "40\n",
            "42\n",
            "44\n",
            "46\n",
            "48\n",
            "50\n",
            "52\n",
            "54\n",
            "56\n",
            "58\n",
            "60\n",
            "62\n",
            "64\n",
            "66\n",
            "68\n",
            "70\n",
            "72\n",
            "74\n",
            "76\n",
            "78\n",
            "80\n",
            "82\n",
            "84\n",
            "86\n",
            "88\n",
            "90\n",
            "92\n",
            "94\n",
            "96\n",
            "98\n"
          ]
        }
      ]
    },
    {
      "cell_type": "code",
      "source": [
        "nombre= input(\"ingrese su nombre:\")\n",
        "for x in range(1, len(nombre), 2):\n",
        "   print(x)"
      ],
      "metadata": {
        "colab": {
          "base_uri": "https://localhost:8080/"
        },
        "id": "LTzlmX7_mvFn",
        "outputId": "26a5ae77-f4f3-40a1-99af-406222e276fd"
      },
      "execution_count": null,
      "outputs": [
        {
          "output_type": "stream",
          "name": "stdout",
          "text": [
            "ingrese su nombre:camilo silva\n",
            "1\n",
            "3\n",
            "5\n",
            "7\n",
            "9\n",
            "11\n"
          ]
        }
      ]
    },
    {
      "cell_type": "code",
      "source": [
        "print(\"la instrucion break\")\n",
        "for i in range (1,6):\n",
        "  if i == 3:\n",
        "    continue\n",
        "  print(\"dentro del ciclo\", i)\n",
        "print(\"fuera del ciclo\")"
      ],
      "metadata": {
        "colab": {
          "base_uri": "https://localhost:8080/"
        },
        "id": "USE0I00BnS6d",
        "outputId": "2848cce9-5a84-4e07-bc93-e6fdb83dc8b7"
      },
      "execution_count": null,
      "outputs": [
        {
          "output_type": "stream",
          "name": "stdout",
          "text": [
            "la instrucion break\n",
            "dentro del ciclo 1\n",
            "dentro del ciclo 2\n",
            "dentro del ciclo 4\n",
            "dentro del ciclo 5\n",
            "fuera del ciclo\n"
          ]
        }
      ]
    },
    {
      "cell_type": "code",
      "source": [
        "print(\"la instrucion break\")\n",
        "for i in range (1,6):\n",
        "  if i == 3:\n",
        "    break\n",
        "  print(\"dentro del ciclo\", i)\n",
        "print(\"fuera del ciclo\")"
      ],
      "metadata": {
        "colab": {
          "base_uri": "https://localhost:8080/"
        },
        "id": "YFxrKf8KoZoR",
        "outputId": "ebbd80eb-0b41-41f5-c418-fa9a41003f58"
      },
      "execution_count": null,
      "outputs": [
        {
          "output_type": "stream",
          "name": "stdout",
          "text": [
            "la instrucion break\n",
            "dentro del ciclo 1\n",
            "dentro del ciclo 2\n",
            "fuera del ciclo\n"
          ]
        }
      ]
    },
    {
      "cell_type": "markdown",
      "source": [
        "**EJERCICIOS DE CICLOS**"
      ],
      "metadata": {
        "id": "J3PEV6zQotMP"
      }
    },
    {
      "cell_type": "markdown",
      "source": [
        "1. Leer un numero y presentar la tabla de multiplicar de ese numero entre 1 y 10.utilizando el siguiente formato de ejemplo."
      ],
      "metadata": {
        "id": "AyOfN4cqoyyx"
      }
    },
    {
      "cell_type": "code",
      "source": [
        "numero = int(input(\"Ingrese un número: \"))\n",
        "\n",
        "print(f\"\\nTabla de multiplicar del {numero}:\\n\")\n",
        "for i in range(1, 11):\n",
        "    print(f\"{numero} x {i} = {numero * i}\")"
      ],
      "metadata": {
        "colab": {
          "base_uri": "https://localhost:8080/"
        },
        "id": "H1yqx6cLpe-v",
        "outputId": "6aa402e9-9a85-45a3-a485-aeae3296f9d4"
      },
      "execution_count": null,
      "outputs": [
        {
          "output_type": "stream",
          "name": "stdout",
          "text": [
            "Ingrese un número: 1\n",
            "\n",
            "Tabla de multiplicar del 1:\n",
            "\n",
            "1 x 1 = 1\n",
            "1 x 2 = 2\n",
            "1 x 3 = 3\n",
            "1 x 4 = 4\n",
            "1 x 5 = 5\n",
            "1 x 6 = 6\n",
            "1 x 7 = 7\n",
            "1 x 8 = 8\n",
            "1 x 9 = 9\n",
            "1 x 10 = 10\n"
          ]
        }
      ]
    },
    {
      "cell_type": "markdown",
      "source": [
        "**2.En un partido de fútbol, se ofrece un descuento a los aficionados que depende del estrato y la edad. Si el estrato es 1 y su edad es menor a 18 el descuento será del 20% sobre el valor de la boleta. Si el estrato es 1 y el alumno tiene 18 o mas años, el descuento será del 15%. Si el estrato es 2 y la edad es menor a 18 años, el descuento será del 10% y si el estrato es 2 y la edad es 18 años o más, el descuento será del 5%. Determinar el total del dinero recaudado y descontado por las últimas N personas que ingresan al partido.**"
      ],
      "metadata": {
        "id": "2ON0sZN1uAmC"
      }
    },
    {
      "cell_type": "code",
      "source": [
        "N = int(input(\"Ingrese el número de personas: \"))\n",
        "valor_boleta = float(input(\"Ingrese el valor de la boleta: \"))\n",
        "\n",
        "total_recaudado = 0\n",
        "total_descuento = 0\n",
        "\n",
        "\n",
        "for i in range(N):\n",
        "    print(f\"\\nPersona {i+1}:\")\n",
        "    estrato = int(input(\"Ingrese su estrato (1 o 2): \"))\n",
        "    edad = int(input(\"Ingrese su edad: \"))\n",
        "\n",
        "\n",
        "    if estrato == 1:\n",
        "        if edad < 18:\n",
        "            descuento = 0.20\n",
        "        else:\n",
        "            descuento = 0.15\n",
        "    elif estrato == 2:\n",
        "        if edad < 18:\n",
        "            descuento = 0.10\n",
        "        else:\n",
        "            descuento = 0.05\n",
        "    else:\n",
        "        print(\"Estrato inválido. No se aplica descuento.\")\n",
        "        descuento = 0.0\n",
        "\n",
        "\n",
        "    descuento_aplicado = valor_boleta * descuento\n",
        "    precio_final = valor_boleta - descuento_aplicado\n",
        "\n",
        "\n",
        "    total_descuento += descuento_aplicado\n",
        "    total_recaudado += precio_final\n",
        "\n",
        "\n",
        "    print(f\"Descuento aplicado: ${descuento_aplicado:.2f}\")\n",
        "    print(f\"Valor a pagar: ${precio_final:.2f}\")\n",
        "\n",
        "\n",
        "print(\"\\nResumen:\")\n",
        "print(f\"Total recaudado: ${total_recaudado:.2f}\")\n",
        "print(f\"Total descontado: ${total_descuento:.2f}\")"
      ],
      "metadata": {
        "id": "rOvPBWiXuZ7h"
      },
      "execution_count": null,
      "outputs": []
    },
    {
      "cell_type": "markdown",
      "source": [
        "**3.Leer un password de ingreso a un programa y mostrar el mensaje de bienvenida si es correcto. Mientras no lo sea, debe mostrar el mensaje de Password incorrecto. El programa debe terminar automáticamente al quinto intento fallido.**"
      ],
      "metadata": {
        "id": "3sbPpu3uues8"
      }
    },
    {
      "cell_type": "code",
      "source": [
        "password_correcto = \"clave123\"\n",
        "intentos = 0\n",
        "max_intentos = 5\n",
        "\n",
        "while intentos < max_intentos:\n",
        "    password_ingresado = input(\"Ingrese su password: \")\n",
        "\n",
        "    if password_ingresado == password_correcto:\n",
        "        print(\"Bienvenido al sistema!\")\n",
        "        break\n",
        "    else:\n",
        "        intentos += 1\n",
        "        print(\"Password incorrecto. Inténtelo nuevamente.\")\n",
        "\n",
        "if intentos == max_intentos:\n",
        "    print(\"Acceso bloqueado. Ha superado el número máximo de intentos.\")"
      ],
      "metadata": {
        "colab": {
          "base_uri": "https://localhost:8080/"
        },
        "id": "LqziAFckvi8m",
        "outputId": "05c6f3d0-fcfc-470a-b1a1-a277827d6381"
      },
      "execution_count": null,
      "outputs": [
        {
          "output_type": "stream",
          "name": "stdout",
          "text": [
            "Ingrese su password: clave1234\n",
            "Password incorrecto. Inténtelo nuevamente.\n",
            "Ingrese su password: hñoi\n",
            "Password incorrecto. Inténtelo nuevamente.\n",
            "Ingrese su password: iljo\n",
            "Password incorrecto. Inténtelo nuevamente.\n",
            "Ingrese su password: lkn\n",
            "Password incorrecto. Inténtelo nuevamente.\n",
            "Ingrese su password: kihn\n",
            "Password incorrecto. Inténtelo nuevamente.\n",
            "Acceso bloqueado. Ha superado el número máximo de intentos.\n"
          ]
        }
      ]
    }
  ]
}