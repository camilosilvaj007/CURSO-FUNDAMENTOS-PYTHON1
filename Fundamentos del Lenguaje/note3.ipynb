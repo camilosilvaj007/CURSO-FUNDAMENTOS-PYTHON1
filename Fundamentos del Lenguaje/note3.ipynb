{
  "nbformat": 4,
  "nbformat_minor": 0,
  "metadata": {
    "colab": {
      "provenance": []
    },
    "kernelspec": {
      "name": "python3",
      "display_name": "Python 3"
    },
    "language_info": {
      "name": "python"
    }
  },
  "cells": [
    {
      "cell_type": "markdown",
      "source": [
        "#colecciones"
      ],
      "metadata": {
        "id": "UrdW4yREzD4h"
      }
    },
    {
      "cell_type": "markdown",
      "source": [
        "se denominan colecciones y son estructuras que nos permiten alamcenar datos en python, existen varios tipos de colecciones"
      ],
      "metadata": {
        "id": "gyOEphxazdi-"
      }
    },
    {
      "cell_type": "markdown",
      "source": [
        "#listas"
      ],
      "metadata": {
        "id": "6xR71KQDzqid"
      }
    },
    {
      "cell_type": "markdown",
      "source": [
        "*las listas son similares a los arreglos en java, nos permite acceder a sus elementos a traves de sus indices*"
      ],
      "metadata": {
        "id": "4VuCho2xz6pn"
      }
    },
    {
      "cell_type": "markdown",
      "source": [
        "#creacion y acceso"
      ],
      "metadata": {
        "id": "LIfWu1yu0FmW"
      }
    },
    {
      "cell_type": "markdown",
      "source": [
        "*utilizan corchetes para la creacion y acceso a sus elementos*"
      ],
      "metadata": {
        "id": "UgCtN1YW0KG2"
      }
    },
    {
      "cell_type": "code",
      "source": [
        "lenguajes = [\"python\", \"java\", \"javascript\", \"c#\"]\n",
        "print (lenguajes)\n",
        "print (lenguajes[0])\n",
        "print (lenguajes[1])\n",
        "print (lenguajes[2])\n",
        "lenguajes [0] = \"php\"\n",
        "print (lenguajes)"
      ],
      "metadata": {
        "colab": {
          "base_uri": "https://localhost:8080/"
        },
        "id": "loGOkttHz1B_",
        "outputId": "27dfe6f0-2cae-478e-83fd-3629ef8f1242"
      },
      "execution_count": null,
      "outputs": [
        {
          "output_type": "stream",
          "name": "stdout",
          "text": [
            "['python', 'java', 'javascript', 'c#']\n",
            "python\n",
            "java\n",
            "javascript\n",
            "['php', 'java', 'javascript', 'c#']\n"
          ]
        }
      ]
    },
    {
      "cell_type": "code",
      "source": [
        "numeros = [3,4,5,6,7,8,9]\n",
        "res = numeros[-3] + numeros[5]\n",
        "print (res)"
      ],
      "metadata": {
        "colab": {
          "base_uri": "https://localhost:8080/"
        },
        "id": "XD6MZEzX0qqg",
        "outputId": "ee0c49ec-c143-4e3a-d3c0-4b8806496f01"
      },
      "execution_count": null,
      "outputs": [
        {
          "output_type": "stream",
          "name": "stdout",
          "text": [
            "15\n"
          ]
        }
      ]
    },
    {
      "cell_type": "markdown",
      "source": [
        "# otra forma alternativa de crear listas es con la funcion list"
      ],
      "metadata": {
        "id": "gLx-80OE1Vc-"
      }
    },
    {
      "cell_type": "code",
      "source": [
        "mi_lista = list('1234567')\n",
        "print (mi_lista)\n",
        "mi_lista_enteros = [int(x) for x in mi_lista]\n",
        "print (mi_lista_enteros)"
      ],
      "metadata": {
        "colab": {
          "base_uri": "https://localhost:8080/"
        },
        "id": "ASNwlbAD06bX",
        "outputId": "05d9839a-0d08-4e56-9b32-5955db87617e"
      },
      "execution_count": null,
      "outputs": [
        {
          "output_type": "stream",
          "name": "stdout",
          "text": [
            "['1', '2', '3', '4', '5', '6', '7']\n",
            "[1, 2, 3, 4, 5, 6, 7]\n"
          ]
        }
      ]
    },
    {
      "cell_type": "code",
      "source": [
        "mi_lista = list('1234567')\n",
        "lista_final = []\n",
        "\n",
        "for x in mi_lista:\n",
        "    lista_final.append(int(x))\n",
        "\n",
        "print (lista_final)"
      ],
      "metadata": {
        "colab": {
          "base_uri": "https://localhost:8080/"
        },
        "id": "NwQAft1g1mim",
        "outputId": "81e39ab8-44cc-4121-cd8c-9e03b2ed9b39"
      },
      "execution_count": null,
      "outputs": [
        {
          "output_type": "stream",
          "name": "stdout",
          "text": [
            "[1, 2, 3, 4, 5, 6, 7]\n"
          ]
        }
      ]
    },
    {
      "cell_type": "code",
      "source": [
        "ml= list( range(1,20))\n",
        "print (ml)"
      ],
      "metadata": {
        "colab": {
          "base_uri": "https://localhost:8080/"
        },
        "id": "QFI6BfzJ2Sc_",
        "outputId": "3b7b2a3a-827a-48ea-ed01-31b84cd5057d"
      },
      "execution_count": null,
      "outputs": [
        {
          "output_type": "stream",
          "name": "stdout",
          "text": [
            "[1, 2, 3, 4, 5, 6, 7, 8, 9, 10, 11, 12, 13, 14, 15, 16, 17, 18, 19]\n"
          ]
        }
      ]
    },
    {
      "cell_type": "markdown",
      "source": [
        "*una lista en python puede almacenar cualquier tipo de dato, incluso listas*"
      ],
      "metadata": {
        "id": "-G3PvpVu3G2m"
      }
    },
    {
      "cell_type": "code",
      "source": [
        "mi_lista = [2, 3.5, True, \"sena\", [\"3\", \"8\", \"a\", 5]]\n",
        "print (mi_lista)"
      ],
      "metadata": {
        "colab": {
          "base_uri": "https://localhost:8080/"
        },
        "id": "tVX4NeZD2iTX",
        "outputId": "3547543e-aefc-45df-b3e8-9761c1bc19cb"
      },
      "execution_count": null,
      "outputs": [
        {
          "output_type": "stream",
          "name": "stdout",
          "text": [
            "[2, 3.5, True, 'sena', ['3', '8', 'a', 5]]\n"
          ]
        }
      ]
    },
    {
      "cell_type": "code",
      "source": [
        "mi_lista = [1,2,3, ['p', 'q', [5,6,7]]]\n",
        "print (mi_lista)"
      ],
      "metadata": {
        "colab": {
          "base_uri": "https://localhost:8080/"
        },
        "id": "NvLX9-wg3hYG",
        "outputId": "784286da-f31b-43d9-bead-3f76d7d7a8d9"
      },
      "execution_count": null,
      "outputs": [
        {
          "output_type": "stream",
          "name": "stdout",
          "text": [
            "[1, 2, 3, ['p', 'q', [5, 6, 7]]]\n"
          ]
        }
      ]
    },
    {
      "cell_type": "code",
      "source": [
        "print(mi_lista[3][2][1])\n",
        "print(mi_lista[-1][-1][-2])"
      ],
      "metadata": {
        "colab": {
          "base_uri": "https://localhost:8080/"
        },
        "id": "Wx4mg6jC3uQO",
        "outputId": "84a0459e-77bc-44e4-ee90-a3c0f788ba94"
      },
      "execution_count": null,
      "outputs": [
        {
          "output_type": "stream",
          "name": "stdout",
          "text": [
            "6\n",
            "6\n"
          ]
        }
      ]
    },
    {
      "cell_type": "code",
      "source": [
        "mi_lista = list(range(1,10))\n",
        "print (mi_lista)\n",
        "print(mi_lista[1:4])\n",
        "print(mi_lista[:2])\n",
        "print(mi_lista[7:])\n",
        "print(mi_lista[-5:-1])\n",
        "print(mi_lista[-3:])"
      ],
      "metadata": {
        "colab": {
          "base_uri": "https://localhost:8080/"
        },
        "id": "4PdU_7uC42BP",
        "outputId": "742cddcc-8f2b-44bc-e822-1ec01ac6151d"
      },
      "execution_count": null,
      "outputs": [
        {
          "output_type": "stream",
          "name": "stdout",
          "text": [
            "[1, 2, 3, 4, 5, 6, 7, 8, 9]\n",
            "[2, 3, 4]\n",
            "[1, 2]\n",
            "[8, 9]\n",
            "[5, 6, 7, 8]\n",
            "[7, 8, 9]\n"
          ]
        }
      ]
    },
    {
      "cell_type": "code",
      "source": [
        "mi_lista = [1,2,3,4,5]\n",
        "mi_lista [0:3] = [\"a\", \"b\", \"c\"]\n",
        "print (mi_lista)"
      ],
      "metadata": {
        "colab": {
          "base_uri": "https://localhost:8080/"
        },
        "id": "qOdNB38B5nJ1",
        "outputId": "ec2222aa-df1b-456b-d177-a9da574fa148"
      },
      "execution_count": null,
      "outputs": [
        {
          "output_type": "stream",
          "name": "stdout",
          "text": [
            "['a', 'b', 'c', 4, 5]\n"
          ]
        }
      ]
    },
    {
      "cell_type": "code",
      "source": [
        "mi_lista = [1,2,3,4,5]\n",
        "mi_lista = mi_lista + [6]\n",
        "print (mi_lista)\n",
        "mi_lista = mi_lista + [7,8,9]\n",
        "print (mi_lista)"
      ],
      "metadata": {
        "colab": {
          "base_uri": "https://localhost:8080/"
        },
        "id": "gRmmPs5u6si3",
        "outputId": "016fa244-bd98-4d30-ec46-b4af27c5dcfe"
      },
      "execution_count": null,
      "outputs": [
        {
          "output_type": "stream",
          "name": "stdout",
          "text": [
            "[1, 2, 3, 4, 5, 6]\n",
            "[1, 2, 3, 4, 5, 6, 7, 8, 9]\n"
          ]
        }
      ]
    },
    {
      "cell_type": "code",
      "source": [
        "mi_lista = [1,2,3]\n",
        "x,y,z = mi_lista\n",
        "print(f\"valor de x: {x}\")\n",
        "print(f\"valor de y: {y}\")\n",
        "print(f\"valor de z: {z}\")"
      ],
      "metadata": {
        "colab": {
          "base_uri": "https://localhost:8080/"
        },
        "id": "pNvC3WYv7JKt",
        "outputId": "c0184513-566d-445d-cddb-83a25ac2c26a"
      },
      "execution_count": null,
      "outputs": [
        {
          "output_type": "stream",
          "name": "stdout",
          "text": [
            "valor de x: 1\n",
            "valor de y: 2\n",
            "valor de z: 3\n"
          ]
        }
      ]
    },
    {
      "cell_type": "markdown",
      "source": [
        "#eliminacion e insercion"
      ],
      "metadata": {
        "id": "SyYH1FdU7jjm"
      }
    },
    {
      "cell_type": "markdown",
      "source": [
        "*para eliminar los elementos de una lista utilizamos una palabra reservada*"
      ],
      "metadata": {
        "id": "A_emtal47mCu"
      }
    },
    {
      "cell_type": "code",
      "source": [
        "lenguajes = [\"python\", \"java\", \"javascript\"]\n",
        "del lenguajes [1]\n",
        "print(lenguajes)"
      ],
      "metadata": {
        "colab": {
          "base_uri": "https://localhost:8080/"
        },
        "id": "DX63yP2n7fCt",
        "outputId": "8e7c5247-8c97-474e-c309-ae38a66a71b2"
      },
      "execution_count": null,
      "outputs": [
        {
          "output_type": "stream",
          "name": "stdout",
          "text": [
            "['python', 'javascript']\n"
          ]
        }
      ]
    },
    {
      "cell_type": "markdown",
      "source": [
        "*exliquemos como insertar datos con la funcion insert y al final de la lista con apend*"
      ],
      "metadata": {
        "id": "xWfWOS0D8X4u"
      }
    },
    {
      "cell_type": "code",
      "source": [
        "lenguajes = [\"python\", \"java\", \"javascript\"]\n",
        "lenguajes.append(\"c#\")\n",
        "lenguajes.append(\"ruby\")\n",
        "lenguajes.insert(1, \"c++\")\n",
        "print (lenguajes)"
      ],
      "metadata": {
        "colab": {
          "base_uri": "https://localhost:8080/"
        },
        "id": "oy7k_lwS79XG",
        "outputId": "418476f7-a617-463f-af4a-91642c1e903d"
      },
      "execution_count": null,
      "outputs": [
        {
          "output_type": "stream",
          "name": "stdout",
          "text": [
            "['python', 'c++', 'java', 'javascript', 'c#', 'ruby']\n"
          ]
        }
      ]
    },
    {
      "cell_type": "code",
      "source": [
        "lista = [\"cosa\", \"casa\", \"ala\"]\n",
        "lista.sort()\n",
        "print (lista)"
      ],
      "metadata": {
        "colab": {
          "base_uri": "https://localhost:8080/"
        },
        "id": "tqbLKL2z8tnu",
        "outputId": "83574ab5-00d0-4c94-8bc2-09c37fd54d29"
      },
      "execution_count": null,
      "outputs": [
        {
          "output_type": "stream",
          "name": "stdout",
          "text": [
            "['ala', 'casa', 'cosa']\n"
          ]
        }
      ]
    },
    {
      "cell_type": "markdown",
      "source": [
        "*para saber si un elemento se encuentra dentro de una lista in*"
      ],
      "metadata": {
        "id": "VCsUNidM9Gf2"
      }
    },
    {
      "cell_type": "code",
      "source": [
        "lenguajes = [\"python\", \"java\", \"javascript\"]\n",
        "print (\"python\" in lenguajes)\n",
        "print (\"c++\" in lenguajes)"
      ],
      "metadata": {
        "colab": {
          "base_uri": "https://localhost:8080/"
        },
        "id": "qaMyE-Pr9Fc1",
        "outputId": "4fdbfb80-949f-4815-ea93-0faa3e58ee25"
      },
      "execution_count": null,
      "outputs": [
        {
          "output_type": "stream",
          "name": "stdout",
          "text": [
            "True\n",
            "False\n"
          ]
        }
      ]
    },
    {
      "cell_type": "markdown",
      "source": [
        "#recorrido de listas"
      ],
      "metadata": {
        "id": "10Rz5EV19W4W"
      }
    },
    {
      "cell_type": "markdown",
      "source": [
        "*como las listas son objetos iterables las podemos recorrer en un ciclo for*"
      ],
      "metadata": {
        "id": "3fS4jKYC9fOG"
      }
    },
    {
      "cell_type": "code",
      "source": [
        "numeros = [1,2,3,4,5]\n",
        "print (numeros)\n",
        "for n in numeros:\n",
        "    print (n)"
      ],
      "metadata": {
        "colab": {
          "base_uri": "https://localhost:8080/"
        },
        "id": "H66sv5Yv9QU2",
        "outputId": "274c1614-6a2d-4836-cd78-1b5c13578885"
      },
      "execution_count": null,
      "outputs": [
        {
          "output_type": "stream",
          "name": "stdout",
          "text": [
            "[1, 2, 3, 4, 5]\n",
            "1\n",
            "2\n",
            "3\n",
            "4\n",
            "5\n"
          ]
        }
      ]
    },
    {
      "cell_type": "markdown",
      "source": [
        "*podemos recorrer la lista utilizando el metodo len*"
      ],
      "metadata": {
        "id": "Lilk7Xgf9_NW"
      }
    },
    {
      "cell_type": "code",
      "source": [
        "mi_lista = [4,5,6,7]\n",
        "for indice in range (0, len(mi_lista)):\n",
        "  print (mi_lista[indice])"
      ],
      "metadata": {
        "colab": {
          "base_uri": "https://localhost:8080/"
        },
        "id": "4t6g2fuZ9yLX",
        "outputId": "0fc7e73e-c766-43f4-d530-3a9dc7dbe2a5"
      },
      "execution_count": null,
      "outputs": [
        {
          "output_type": "stream",
          "name": "stdout",
          "text": [
            "4\n",
            "5\n",
            "6\n",
            "7\n"
          ]
        }
      ]
    },
    {
      "cell_type": "markdown",
      "source": [
        "*podemos acceder al indice de cada elemento a traves d ela funcion enumerate*"
      ],
      "metadata": {
        "id": "vjkODfih-lfW"
      }
    },
    {
      "cell_type": "code",
      "source": [
        "numeros = [3,29,42,34,54]\n",
        "for x,y in enumerate(numeros):\n",
        "  print (f\"en la posicion x {x} encontramos el numero {y}\")"
      ],
      "metadata": {
        "colab": {
          "base_uri": "https://localhost:8080/"
        },
        "id": "BRG6DxHy-PlV",
        "outputId": "8ef6e487-4ebf-4e79-f8ed-18211e1d9fff"
      },
      "execution_count": null,
      "outputs": [
        {
          "output_type": "stream",
          "name": "stdout",
          "text": [
            "en la posicion x 0 encontramos el numero 3\n",
            "en la posicion x 1 encontramos el numero 29\n",
            "en la posicion x 2 encontramos el numero 42\n",
            "en la posicion x 3 encontramos el numero 34\n",
            "en la posicion x 4 encontramos el numero 54\n"
          ]
        }
      ]
    },
    {
      "cell_type": "code",
      "source": [
        "letras = [\"a\", \"b\", \"c\", \"d\", \"e\"]\n",
        "for indice,valor in enumerate(letras):\n",
        "  print(f\"en la posicion x {indice} encontramos el valor {valor}\")"
      ],
      "metadata": {
        "colab": {
          "base_uri": "https://localhost:8080/"
        },
        "id": "3qcrcIwi--2e",
        "outputId": "7b23e938-5972-43e0-893d-8dd2ac6ce172"
      },
      "execution_count": null,
      "outputs": [
        {
          "output_type": "stream",
          "name": "stdout",
          "text": [
            "en la posicion x 0 encontramos el valor a\n",
            "en la posicion x 1 encontramos el valor b\n",
            "en la posicion x 2 encontramos el valor c\n",
            "en la posicion x 3 encontramos el valor d\n",
            "en la posicion x 4 encontramos el valor e\n"
          ]
        }
      ]
    },
    {
      "cell_type": "code",
      "source": [
        "lista = [2,36,76,23]\n",
        "ind = 0\n",
        "while ind < len(lista):\n",
        "  print (lista[ind])\n",
        "  ind += 1"
      ],
      "metadata": {
        "colab": {
          "base_uri": "https://localhost:8080/"
        },
        "id": "abm62HFP_cs-",
        "outputId": "19d276ce-1dd3-40e6-e779-5e89407a152b"
      },
      "execution_count": null,
      "outputs": [
        {
          "output_type": "stream",
          "name": "stdout",
          "text": [
            "2\n",
            "36\n",
            "76\n",
            "23\n"
          ]
        }
      ]
    },
    {
      "cell_type": "markdown",
      "source": [
        "*se cuenta con dos listas y se desean recorrer de manera simultanea mostrando el valor de las dos en cada posicion*"
      ],
      "metadata": {
        "id": "nWlk9ztOBHOH"
      }
    },
    {
      "cell_type": "code",
      "source": [
        "lista1 = [\"ma\", \"me\", \"mi\", \"mo\", \"mu\"]\n",
        "lista2 = [\"pa\", \"pe\", \"pi\", \"po\", \"pu\"]\n",
        "for i in range(min(len(lista1), len(lista2))):\n",
        "    print(lista1[i] + \" - \" + lista2[i])"
      ],
      "metadata": {
        "colab": {
          "base_uri": "https://localhost:8080/"
        },
        "id": "myfex_90_8aO",
        "outputId": "1a6b6bd9-b0e6-4765-d489-4c4d2c3a70ff"
      },
      "execution_count": null,
      "outputs": [
        {
          "output_type": "stream",
          "name": "stdout",
          "text": [
            "ma - pa\n",
            "me - pe\n",
            "mi - pi\n",
            "mo - po\n",
            "mu - pu\n"
          ]
        }
      ]
    },
    {
      "cell_type": "code",
      "source": [
        "lista_1 = [\"ma\", \"me\", \"mi\", \"mo\", \"mu\"]\n",
        "lista_2 = [\"pa\", \"pe\", \"pi\", \"po\", \"pu\"]\n",
        "lista_3 = [\"pu\", \"pu\", \"pu\", \"pu\", \"Pu\"]\n",
        "lista_4 = [\"ta\", \"te\", \"ti\", \"to\", \"tu\"]\n",
        "for x in zip(lista_1, lista_2, lista_3, lista_4):\n",
        "    print(x)"
      ],
      "metadata": {
        "colab": {
          "base_uri": "https://localhost:8080/"
        },
        "id": "OyrOsiEUBtfl",
        "outputId": "164627f0-28e1-4b2e-8be6-131316f7267f"
      },
      "execution_count": null,
      "outputs": [
        {
          "output_type": "stream",
          "name": "stdout",
          "text": [
            "('ma', 'pa', 'pu', 'ta')\n",
            "('me', 'pe', 'pu', 'te')\n",
            "('mi', 'pi', 'pu', 'ti')\n",
            "('mo', 'po', 'pu', 'to')\n",
            "('mu', 'pu', 'Pu', 'tu')\n"
          ]
        }
      ]
    },
    {
      "cell_type": "markdown",
      "source": [
        "*con la funcion zip podemos iterar varias listas simultaneamente*"
      ],
      "metadata": {
        "id": "2_fNunM6E153"
      }
    },
    {
      "cell_type": "markdown",
      "source": [
        "# metodos aplicables a listas"
      ],
      "metadata": {
        "id": "2Zsq-DZFE97-"
      }
    },
    {
      "cell_type": "markdown",
      "source": [
        "*el metodo sort () que nos permite ordenar los elementos*"
      ],
      "metadata": {
        "id": "NaGVjXaAFBDm"
      }
    },
    {
      "cell_type": "code",
      "source": [
        "mi_lista = [5,10,8,3,1,52]\n",
        "mi_lista.sort()\n",
        "print (mi_lista)"
      ],
      "metadata": {
        "colab": {
          "base_uri": "https://localhost:8080/"
        },
        "id": "IWb_iEZZEbFO",
        "outputId": "67e39d36-7afa-41c2-82f7-5f35088b7921"
      },
      "execution_count": null,
      "outputs": [
        {
          "output_type": "stream",
          "name": "stdout",
          "text": [
            "[1, 3, 5, 8, 10, 52]\n"
          ]
        }
      ]
    },
    {
      "cell_type": "markdown",
      "source": [
        "*podemos pasarle el siguiente metodo reverse=true al metodo sort para que ordene los elementos inversamente*"
      ],
      "metadata": {
        "id": "yoEbi8IpFTwG"
      }
    },
    {
      "cell_type": "code",
      "source": [
        "mi_lista = [5,10,8,3,1,52]\n",
        "mi_lista.sort(reverse=True)\n",
        "print (mi_lista)"
      ],
      "metadata": {
        "colab": {
          "base_uri": "https://localhost:8080/"
        },
        "id": "vWbYHhQcFRcu",
        "outputId": "dffe8f94-4477-4816-cdc4-7048f34ab29d"
      },
      "execution_count": null,
      "outputs": [
        {
          "output_type": "stream",
          "name": "stdout",
          "text": [
            "[52, 10, 8, 5, 3, 1]\n"
          ]
        }
      ]
    },
    {
      "cell_type": "markdown",
      "source": [
        "*el metodo remove() recibe como argumento un objeto y lo borra de la lista*"
      ],
      "metadata": {
        "id": "pY2CJxwfFl0l"
      }
    },
    {
      "cell_type": "code",
      "source": [
        "lenguajes = [\"python\", \"java\", \"javascript\"]\n",
        "lenguajes.remove(\"java\")\n",
        "print (lenguajes)"
      ],
      "metadata": {
        "colab": {
          "base_uri": "https://localhost:8080/"
        },
        "id": "8u-4SgZ1Fk9c",
        "outputId": "dbd88c55-e3d2-4ecb-ec5b-f27b97b3a799"
      },
      "execution_count": null,
      "outputs": [
        {
          "output_type": "stream",
          "name": "stdout",
          "text": [
            "['python', 'javascript']\n"
          ]
        }
      ]
    },
    {
      "cell_type": "markdown",
      "source": [
        "*si utilizo del debo utilizar la posicion para remover o eliminar el elemento, si utilizo remove puedo utilizar directamente el elemento que voy a borrar*"
      ],
      "metadata": {
        "id": "OytOMNaDF1DV"
      }
    },
    {
      "cell_type": "code",
      "source": [
        "lenguajes = [\"python\", \"java\", \"javascript\"]\n",
        "del lenguajes [1]\n",
        "print(lenguajes)"
      ],
      "metadata": {
        "colab": {
          "base_uri": "https://localhost:8080/"
        },
        "id": "m3YJJCH8Fu_l",
        "outputId": "29f5922f-ed21-47a1-de23-56faff8fb66a"
      },
      "execution_count": null,
      "outputs": [
        {
          "output_type": "stream",
          "name": "stdout",
          "text": [
            "['python', 'javascript']\n"
          ]
        }
      ]
    },
    {
      "cell_type": "markdown",
      "source": [
        "*el metodo reverse() invierte el contenido de la lista*"
      ],
      "metadata": {
        "id": "cLzKlBKNGbwu"
      }
    },
    {
      "cell_type": "code",
      "source": [
        "lenguajes = [\"python\", \"java\", \"javascript\"]\n",
        "lenguajes.reverse()\n",
        "print (lenguajes)"
      ],
      "metadata": {
        "colab": {
          "base_uri": "https://localhost:8080/"
        },
        "id": "EmVF8IKOGKTl",
        "outputId": "e0a05eb9-bd15-4cd1-ce58-3634b6748869"
      },
      "execution_count": null,
      "outputs": [
        {
          "output_type": "stream",
          "name": "stdout",
          "text": [
            "['javascript', 'java', 'python']\n"
          ]
        }
      ]
    },
    {
      "cell_type": "code",
      "source": [
        "cadena = \"hola mundo sena\"\n",
        "print(cadena[::-1])"
      ],
      "metadata": {
        "colab": {
          "base_uri": "https://localhost:8080/"
        },
        "id": "ig8jQn9kGk9N",
        "outputId": "b40cba6b-398b-4a56-bf12-a0007cf1c6d1"
      },
      "execution_count": null,
      "outputs": [
        {
          "output_type": "stream",
          "name": "stdout",
          "text": [
            "anes odnum aloh\n"
          ]
        }
      ]
    },
    {
      "cell_type": "code",
      "source": [
        "cadena = \"hola mundo sena\"\n",
        "lista = list(cadena)\n",
        "cadena = \"\".join(lista)\n",
        "print (cadena)\n",
        "print (lista)\n",
        "lista.reverse()\n",
        "print (lista)\n",
        "cadena = \"\".join(lista)\n",
        "print (cadena)"
      ],
      "metadata": {
        "colab": {
          "base_uri": "https://localhost:8080/"
        },
        "id": "_5DBvm0FGtoV",
        "outputId": "af6577d3-ad44-4139-a994-712681ae59d0"
      },
      "execution_count": null,
      "outputs": [
        {
          "output_type": "stream",
          "name": "stdout",
          "text": [
            "hola mundo sena\n",
            "['h', 'o', 'l', 'a', ' ', 'm', 'u', 'n', 'd', 'o', ' ', 's', 'e', 'n', 'a']\n",
            "['a', 'n', 'e', 's', ' ', 'o', 'd', 'n', 'u', 'm', ' ', 'a', 'l', 'o', 'h']\n",
            "anes odnum aloh\n"
          ]
        }
      ]
    },
    {
      "cell_type": "markdown",
      "source": [
        "# tuplas"
      ],
      "metadata": {
        "id": "CcfXaNgvHZPm"
      }
    },
    {
      "cell_type": "markdown",
      "source": [
        "*generalidades*\n"
      ],
      "metadata": {
        "id": "RgkFaz5eIPet"
      }
    },
    {
      "cell_type": "code",
      "source": [
        "mi_tupla = (\"a\", \"b\", \"c\", \"d\")\n",
        "print (type(mi_tupla))\n",
        "print (mi_tupla[1])\n",
        "print (mi_tupla[1:3])\n",
        "print (mi_tupla[:-1])"
      ],
      "metadata": {
        "colab": {
          "base_uri": "https://localhost:8080/"
        },
        "id": "OT7STJwNHAHF",
        "outputId": "d7a7099b-c179-4e0d-f468-be7a87ad6a06"
      },
      "execution_count": null,
      "outputs": [
        {
          "output_type": "stream",
          "name": "stdout",
          "text": [
            "<class 'tuple'>\n",
            "b\n",
            "('b', 'c')\n",
            "('a', 'b', 'c')\n"
          ]
        }
      ]
    },
    {
      "cell_type": "code",
      "source": [
        "mi_tupla = (\"a\", \"b\", \"c\", \"d\")\n",
        "print (mi_tupla)"
      ],
      "metadata": {
        "colab": {
          "base_uri": "https://localhost:8080/"
        },
        "id": "NWmCBB-kIaAV",
        "outputId": "2ec21d4e-f09c-4a8b-942d-2f4b2fa634b8"
      },
      "execution_count": null,
      "outputs": [
        {
          "output_type": "stream",
          "name": "stdout",
          "text": [
            "('a', 'b', 'c', 'd')\n"
          ]
        }
      ]
    },
    {
      "cell_type": "code",
      "source": [
        "mi_tupla = (100, 'hola', [1,2,3], -50)\n",
        "print (mi_tupla[2][-1])\n",
        "mi_tupla = (100, 'hola', (1,(200, 'd', [\"x\", \"y\", \"z\"])), (1,2,3), -50)\n",
        "print (mi_tupla[2][1][2][-2])"
      ],
      "metadata": {
        "colab": {
          "base_uri": "https://localhost:8080/"
        },
        "id": "Jpa4N_4iJLWM",
        "outputId": "0bc7e9cf-7c60-437d-d4fc-4cf3aa1866ce"
      },
      "execution_count": null,
      "outputs": [
        {
          "output_type": "stream",
          "name": "stdout",
          "text": [
            "3\n",
            "y\n"
          ]
        }
      ]
    },
    {
      "cell_type": "code",
      "source": [
        "mi_tupla = (1,2,3,4,5,6,7,8,9,2,52,6,3,9,2,4,7,8,2)\n",
        "print (mi_tupla)"
      ],
      "metadata": {
        "colab": {
          "base_uri": "https://localhost:8080/"
        },
        "id": "d1KBsqXNMXQd",
        "outputId": "ae854c0b-2c1d-40bf-b5e2-6963ab5ef7aa"
      },
      "execution_count": null,
      "outputs": [
        {
          "output_type": "stream",
          "name": "stdout",
          "text": [
            "(1, 2, 3, 4, 5, 6, 7, 8, 9, 2, 52, 6, 3, 9, 2, 4, 7, 8, 2)\n"
          ]
        }
      ]
    },
    {
      "cell_type": "code",
      "source": [
        "mi_tupla = tuple(\"amomimama\")\n",
        "print (mi_tupla)"
      ],
      "metadata": {
        "colab": {
          "base_uri": "https://localhost:8080/"
        },
        "id": "99-iF8blMnNe",
        "outputId": "34117699-6e1d-4803-ddf8-b0a4a1b0c638"
      },
      "execution_count": null,
      "outputs": [
        {
          "output_type": "stream",
          "name": "stdout",
          "text": [
            "('a', 'm', 'o', 'm', 'i', 'm', 'a', 'm', 'a')\n"
          ]
        }
      ]
    },
    {
      "cell_type": "code",
      "source": [
        "mi_tupla = tuple(input(\"ingrese una frase:\"))\n",
        "print (mi_tupla)\n",
        "print(f\"la cantidad de elementos que tiene la tupla es: {len(mi_tupla)}\")\n",
        "for dato in mi_tupla:\n",
        "  print (dato)"
      ],
      "metadata": {
        "colab": {
          "base_uri": "https://localhost:8080/"
        },
        "id": "J6bso9hTMueW",
        "outputId": "19a0319c-35ed-4a87-bc78-04e32898ba42"
      },
      "execution_count": null,
      "outputs": [
        {
          "output_type": "stream",
          "name": "stdout",
          "text": [
            "ingrese una frase:sopa\n",
            "('s', 'o', 'p', 'a')\n",
            "la cantidad de elementos que tiene la tupla es: 4\n",
            "s\n",
            "o\n",
            "p\n",
            "a\n"
          ]
        }
      ]
    },
    {
      "cell_type": "markdown",
      "source": [
        "# paso de tupla a lista y de lista a tupla"
      ],
      "metadata": {
        "id": "Wr_xTluHNXwd"
      }
    },
    {
      "cell_type": "code",
      "source": [
        "mi_lista = [1,2,3,4,5]\n",
        "mi_tupla = tuple(mi_lista)\n",
        "print (mi_tupla)"
      ],
      "metadata": {
        "colab": {
          "base_uri": "https://localhost:8080/"
        },
        "id": "DdwdDcJPM8qU",
        "outputId": "9be1d00f-6342-4de2-f26f-465daaedbc31"
      },
      "execution_count": null,
      "outputs": [
        {
          "output_type": "stream",
          "name": "stdout",
          "text": [
            "(1, 2, 3, 4, 5)\n"
          ]
        }
      ]
    },
    {
      "cell_type": "code",
      "source": [
        "mi_tupla = (1,2,3,4,5)\n",
        "mi_lista = list(mi_tupla)\n",
        "print (mi_lista)"
      ],
      "metadata": {
        "colab": {
          "base_uri": "https://localhost:8080/"
        },
        "id": "TGMuJP5hNfnG",
        "outputId": "c576b765-a5a2-47b8-917d-f672c29baee5"
      },
      "execution_count": null,
      "outputs": [
        {
          "output_type": "stream",
          "name": "stdout",
          "text": [
            "[1, 2, 3, 4, 5]\n"
          ]
        }
      ]
    },
    {
      "cell_type": "code",
      "source": [
        "mi_tupla = (3,4,5,6,8,2)\n",
        "mi_lista = list(mi_tupla)\n",
        "mi_lista.sort()\n",
        "mi_tupla = tuple(mi_lista)\n",
        "print (mi_tupla)"
      ],
      "metadata": {
        "colab": {
          "base_uri": "https://localhost:8080/"
        },
        "id": "ngaiCe0nNpPU",
        "outputId": "5b82efb1-ed1d-4521-e463-12c2e3e9c652"
      },
      "execution_count": null,
      "outputs": [
        {
          "output_type": "stream",
          "name": "stdout",
          "text": [
            "(2, 3, 4, 5, 6, 8)\n"
          ]
        }
      ]
    },
    {
      "cell_type": "markdown",
      "source": [
        "#APROPIACION"
      ],
      "metadata": {
        "id": "tWV3_YSphKgC"
      }
    },
    {
      "cell_type": "markdown",
      "source": [
        "*1.Pregunte al usuario cuántos elementos desea ingresar en una lista, luego solicite cada uno de ellos y presente el contenido de la lista y su contenido invertido*"
      ],
      "metadata": {
        "id": "oSCkZDOGhOfb"
      }
    },
    {
      "cell_type": "code",
      "source": [
        "\n",
        "usuario= int(input(\"¿Cuántos elementos deseas ingresar en la lista? \"))\n",
        "lista = []\n",
        "for i in range(usuario):\n",
        "    elemento = input(f\"Ingresa el elemento {i+1}: \")\n",
        "    lista.append(elemento)\n",
        "print(\"Lista original:\", lista)\n",
        "print(\"Lista invertida:\", list(reversed(lista)))"
      ],
      "metadata": {
        "colab": {
          "base_uri": "https://localhost:8080/"
        },
        "id": "bpH4jF3_hb_Q",
        "outputId": "edbc6d2c-3c5d-47da-998a-0ae75095a522"
      },
      "execution_count": null,
      "outputs": [
        {
          "output_type": "stream",
          "name": "stdout",
          "text": [
            "¿Cuántos elementos deseas ingresar en la lista? 3\n",
            "Ingresa el elemento 1: burro\n",
            "Ingresa el elemento 2: caballo\n",
            "Ingresa el elemento 3: yegua\n",
            "Lista original: ['burro', 'caballo', 'yegua']\n",
            "Lista invertida: ['yegua', 'caballo', 'burro']\n"
          ]
        }
      ]
    },
    {
      "cell_type": "markdown",
      "source": [
        "*2.Crear una lista de números y solicitar un número. Borrar de la lista ese número en todas las posiciones donde se encuentre. Presentar la lista final*"
      ],
      "metadata": {
        "id": "oWSGqQWLjVbM"
      }
    },
    {
      "cell_type": "code",
      "source": [
        "\n",
        "lista = [5,10,15,20,25,15,20]\n",
        "print(\"Lista original:\", lista)\n",
        "num_eliminar = int(input(\"Ingresa el número que deseas eliminar de la lista: \"))\n",
        "while num_eliminar in lista:\n",
        "    lista.remove(num_eliminar)\n",
        "print(\"Lista final:\", lista)\n"
      ],
      "metadata": {
        "colab": {
          "base_uri": "https://localhost:8080/"
        },
        "id": "dPX9NcAehhnM",
        "outputId": "2021fdef-4153-4a8b-ce88-7b775f447351"
      },
      "execution_count": 135,
      "outputs": [
        {
          "output_type": "stream",
          "name": "stdout",
          "text": [
            "Lista original: [5, 10, 15, 20, 25, 15, 20]\n",
            "Ingresa el número que deseas eliminar de la lista: 10\n",
            "Lista final: [5, 15, 20, 25, 15, 20]\n"
          ]
        }
      ]
    },
    {
      "cell_type": "markdown",
      "source": [
        "*3.Solicite al usuario dos(2) frases y devuelva una lista con todas las letras que se repiten en la misma posición de ambas listas\n",
        "ejemplo: frase1: \"holasena\" frase2: \"todogana\" salida: [\"o\",\"n\", \"a\"]*"
      ],
      "metadata": {
        "id": "GoWZ8JIUmXRj"
      }
    },
    {
      "cell_type": "code",
      "source": [
        "\n",
        "frase1 = input(\"Ingresa la primera frase: \")\n",
        "frase2 = input(\"Ingresa la segunda frase: \")\n",
        "duplicados = [frase1[i] for i in range(min(len(frase1), len(frase2))) if frase1[i] == frase2[i]]\n",
        "print(\"Letras repetidas en la misma posición:\", duplicados if duplicados else \"No hay coincidencias\")"
      ],
      "metadata": {
        "id": "5hKbz7kYmhPj",
        "colab": {
          "base_uri": "https://localhost:8080/"
        },
        "outputId": "8645cd98-0067-4dbc-adc3-940770394043"
      },
      "execution_count": 137,
      "outputs": [
        {
          "output_type": "stream",
          "name": "stdout",
          "text": [
            "Ingresa la primera frase: camilo\n",
            "Ingresa la segunda frase: camila\n",
            "Letras repetidas en la misma posición: ['c', 'a', 'm', 'i', 'l']\n"
          ]
        }
      ]
    }
  ]
}