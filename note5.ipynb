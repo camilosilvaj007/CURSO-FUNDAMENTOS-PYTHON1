{
  "nbformat": 4,
  "nbformat_minor": 0,
  "metadata": {
    "colab": {
      "provenance": []
    },
    "kernelspec": {
      "name": "python3",
      "display_name": "Python 3"
    },
    "language_info": {
      "name": "python"
    }
  },
  "cells": [
    {
      "cell_type": "markdown",
      "source": [
        "**Ejercicio 1: Calculadora Avanzada**\n",
        "\n",
        "Descripción:\n",
        "Crea una función que actúe como calculadora. La función recibirá dos números y un operador (por ejemplo, '+', '-', '*', '/', '**', '//') para realizar la operación correspondiente.\n",
        "\n",
        "Utiliza estructuras de control (if/else) para seleccionar la operación a realizar.\n",
        "Usa manejo de excepciones para controlar errores como la división por cero y entradas no numéricas.\n",
        "Puedes importar el módulo math para operaciones adicionales si es necesario.\n",
        "Ejemplo de salida:\n",
        "\n",
        "Ingrese el primer número: 10 Ingrese el segundo número: 5 Ingrese el operador (+, -, *, /, **, //): / Resultado: 10 / 5 = 2.0"
      ],
      "metadata": {
        "id": "uQojECLyKZUg"
      }
    },
    {
      "cell_type": "code",
      "source": [
        "try:\n",
        "    num1, num2 = float(input(\"Ingrese el primer número: \")), float(input(\"Ingrese el segundo número: \"))\n",
        "    operador = input(\"Ingrese el operador (+, -, *, /, **, //): \")\n",
        "\n",
        "    operaciones = {\n",
        "        \"+\": num1 + num2,\n",
        "        \"-\": num1 - num2,\n",
        "        \"*\": num1 * num2,\n",
        "        \"/\": num1 / num2,\n",
        "        \"**\": num1 ** num2,\n",
        "        \"//\": num1 // num2\n",
        "    }\n",
        "\n",
        "    if operador in operaciones:\n",
        "        print(f\"Resultado: {num1} {operador} {num2} = {operaciones[operador]}\")\n",
        "    else:\n",
        "        print(\"Operador no válido.\")\n",
        "\n",
        "except ZeroDivisionError:\n",
        "    print(\"No se puede dividir por cero.\")\n",
        "except ValueError:\n",
        "    print(\"Por favor, ingrese solo números.\")\n"
      ],
      "metadata": {
        "colab": {
          "base_uri": "https://localhost:8080/"
        },
        "id": "Yiqhs5HoKgDH",
        "outputId": "e978a157-68fc-4dfb-9fe6-0740f1a18179"
      },
      "execution_count": 1,
      "outputs": [
        {
          "output_type": "stream",
          "name": "stdout",
          "text": [
            "Ingrese el primer número: 5\n",
            "Ingrese el segundo número: 3\n",
            "Ingrese el operador (+, -, *, /, **, //): *\n",
            "Resultado: 5.0 * 3.0 = 15.0\n"
          ]
        }
      ]
    },
    {
      "cell_type": "markdown",
      "source": [
        "**Ejercicio 2: Administrador de Inventarios**\n",
        "\n",
        "Descripción:\n",
        "Desarrolla un sistema para gestionar el inventario de productos usando un diccionario donde cada clave es el nombre del producto y su valor la cantidad en stock.\n",
        "\n",
        "Implementa funciones para agregar, actualizar y eliminar productos.\n",
        "Utiliza estructuras de control para recorrer y mostrar el inventario.\n",
        "Incluye manejo de excepciones para capturar intentos de actualizar o eliminar un producto inexistente.\n",
        "Ejemplo de salida:\n",
        "Inventario inicial: {'manzanas': 50, 'naranjas': 30, 'peras': 20} Actualizando stock de 'peras' a 25... Producto 'bananas' agregado con 40 unidades. Eliminando 'naranjas'... Inventario final: {'manzanas': 50, 'peras': 25, 'bananas': 40}"
      ],
      "metadata": {
        "id": "2XVyUJIqKu73"
      }
    },
    {
      "cell_type": "code",
      "source": [
        "inventario = {\"manzanas\": 50, \"naranjas\": 30, \"peras\": 20}\n",
        "print(\"Inventario inicial:\", inventario)\n",
        "\n",
        "def actualizar_producto(producto, cantidad):\n",
        "    inventario[producto] = cantidad if producto in inventario else print(f\"Error: El producto '{producto}' no existe.\")\n",
        "\n",
        "def agregar_producto(producto, cantidad):\n",
        "    inventario[producto] = cantidad\n",
        "\n",
        "def eliminar_producto(producto):\n",
        "    inventario.pop(producto, print(f\"Error: El producto '{producto}' no existe.\"))\n",
        "\n",
        "actualizar_producto(\"peras\", 25)\n",
        "agregar_producto(\"bananas\", 40)\n",
        "eliminar_producto(\"naranjas\")\n",
        "\n",
        "print(\"Inventario final:\", inventario)"
      ],
      "metadata": {
        "colab": {
          "base_uri": "https://localhost:8080/"
        },
        "id": "wkK-mEKZLGzf",
        "outputId": "70b31139-026b-4fe3-a964-84a7b08cabce"
      },
      "execution_count": 2,
      "outputs": [
        {
          "output_type": "stream",
          "name": "stdout",
          "text": [
            "Inventario inicial: {'manzanas': 50, 'naranjas': 30, 'peras': 20}\n",
            "Error: El producto 'naranjas' no existe.\n",
            "Inventario final: {'manzanas': 50, 'peras': 25, 'bananas': 40}\n"
          ]
        }
      ]
    },
    {
      "cell_type": "markdown",
      "source": [
        "**Ejercicio 3: Análisis de Texto**\n",
        "\n",
        "Descripción:\n",
        "Crea una función que reciba una cadena de texto y calcule la frecuencia de cada palabra en el mismo.\n",
        "\n",
        "Convierte el texto a minúsculas y separa las palabras usando algún método (puedes utilizar expresiones regulares con el módulo re).\n",
        "Emplea un diccionario para almacenar la palabra (clave) y su frecuencia (valor).\n",
        "Controla excepciones en caso de que el usuario no ingrese ningún texto o ingrese caracteres inesperados.\n",
        "Ejemplo de salida:\n",
        "Ingrese un texto: \"Hola mundo, hola a todos en el mundo\" Frecuencia de palabras: hola: 2 mundo: 2 a: 1 todos: 1 en: 1 el: 1"
      ],
      "metadata": {
        "id": "DDtGXg2ILSAn"
      }
    },
    {
      "cell_type": "code",
      "source": [
        "import re\n",
        "\n",
        "texto = input(\"Ingrese un texto: \")\n",
        "\n",
        "if texto.strip():\n",
        "    texto = texto.lower()\n",
        "    palabras = re.findall(r'\\w+', texto)\n",
        "    frecuencia = {}\n",
        "\n",
        "    for p in palabras:\n",
        "        frecuencia[p] = frecuencia.get(p, 0) + 1\n",
        "\n",
        "    print(\"Frecuencia de palabras:\")\n",
        "    for palabra, cantidad in frecuencia.items():\n",
        "        print(f\"{palabra}: {cantidad}\")\n",
        "else:\n",
        "    print(\"Error: No se ingresó ningún texto.\")"
      ],
      "metadata": {
        "colab": {
          "base_uri": "https://localhost:8080/"
        },
        "id": "57BMm_ZGLewv",
        "outputId": "eb830de9-3aa8-40b7-e8ff-765891632e0d"
      },
      "execution_count": 3,
      "outputs": [
        {
          "output_type": "stream",
          "name": "stdout",
          "text": [
            "Ingrese un texto: camilo\n",
            "Frecuencia de palabras:\n",
            "camilo: 1\n"
          ]
        }
      ]
    },
    {
      "cell_type": "markdown",
      "source": [
        "**Ejercicio 4: Conversor de Unidades**\n",
        "\n",
        "Descripción:\n",
        "Desarrolla un conjunto de funciones para convertir unidades métricas. Por ejemplo:\n",
        "\n",
        "De centímetros a pulgadas.\n",
        "De kilómetros a millas.\n",
        "Utiliza estructuras de control para verificar que la entrada sea numérica, y maneja excepciones cuando el usuario ingrese datos inválidos.\n",
        "Ejemplo de salida:\n",
        "Seleccione la conversión:\n",
        "\n",
        "Centímetros a pulgadas\n",
        "\n",
        "Kilómetros a millas Opción: 1 Ingrese la cantidad en centímetros: 100 Resultado: 100 cm = 39.37 pulgadas"
      ],
      "metadata": {
        "id": "OKEPjQuyLrg3"
      }
    },
    {
      "cell_type": "code",
      "source": [
        "\n",
        "opcion = input(\"Seleccione la conversión:\\n1. Centímetros a pulgadas\\n2. Kilómetros a millas\\nOpción: \")\n",
        "\n",
        "try:\n",
        "    cantidad = float(input(\"Ingrese la cantidad: \"))\n",
        "\n",
        "    if opcion == \"1\":\n",
        "        resultado = cantidad / 2.54\n",
        "        print(f\"{cantidad} cm = {round(resultado, 2)} pulgadas\")\n",
        "    elif opcion == \"2\":\n",
        "        resultado = cantidad * 0.621371\n",
        "        print(f\"{cantidad} km = {round(resultado, 2)} millas\")\n",
        "    else:\n",
        "        print(\"Opción no válida.\")\n",
        "except ValueError:\n",
        "    print(\"Error: Ingrese un número válido.\")"
      ],
      "metadata": {
        "colab": {
          "base_uri": "https://localhost:8080/"
        },
        "id": "aoKg39DyLt-O",
        "outputId": "37ebf0ff-5a3c-412d-c746-9adcf1d3f909"
      },
      "execution_count": 6,
      "outputs": [
        {
          "output_type": "stream",
          "name": "stdout",
          "text": [
            "Seleccione la conversión:\n",
            "1. Centímetros a pulgadas\n",
            "2. Kilómetros a millas\n",
            "Opción: 2\n",
            "Ingrese la cantidad: 100\n",
            "100.0 km = 62.14 millas\n"
          ]
        }
      ]
    },
    {
      "cell_type": "markdown",
      "source": [
        "\n",
        "**Ejercicio 5: Juego \"Adivina el Número\"**\n",
        "\n",
        "Descripción:\n",
        "Implementa un juego en el que la computadora selecciona aleatoriamente un número en un rango (por ejemplo, 1 a 50) y el usuario debe adivinarlo.\n",
        "\n",
        "Emplea el módulo random para generar el número secreto.\n",
        "Utiliza un bucle que permita múltiples intentos, con retroalimentación indicando si el número ingresado es mayor o menor que el secreto.\n",
        "Gestiona excepciones para capturar entradas no numéricas.\n",
        "Ejemplo de salida:\n",
        "¡Bienvenido al juego \"Adivina el Número\"! Estoy pensando en un número entre 1 y 50. Intento 1 - Ingresa tu número: 25 El número secreto es mayor. Intento 2 - Ingresa tu número: 35 El número secreto es menor. Intento 3 - Ingresa tu número: 30 ¡Felicidades! Has adivinado el número secreto: 30"
      ],
      "metadata": {
        "id": "jMS6X1WTMA5o"
      }
    },
    {
      "cell_type": "code",
      "source": [
        "import random\n",
        "\n",
        "numero_secreto = random.randint(1, 50)\n",
        "intentos = 0\n",
        "\n",
        "while True:\n",
        "    try:\n",
        "        intento = int(input(f\"Intento {intentos + 1} - Ingresa tu número: \"))\n",
        "        intentos += 1\n",
        "\n",
        "        if intento < numero_secreto:\n",
        "            print(\"El número secreto es mayor.\")\n",
        "        elif intento > numero_secreto:\n",
        "            print(\"El número secreto es menor.\")\n",
        "        else:\n",
        "            print(f\"¡Felicidades! Has adivinado el número secreto: {numero_secreto}\")\n",
        "            break\n",
        "    except ValueError:\n",
        "        print(\"Por favor, ingresa un número válido.\")\n"
      ],
      "metadata": {
        "colab": {
          "base_uri": "https://localhost:8080/"
        },
        "id": "Bqr5QW1BMGbI",
        "outputId": "828a119a-4b83-465f-f56d-d42e9cbfd732"
      },
      "execution_count": 7,
      "outputs": [
        {
          "output_type": "stream",
          "name": "stdout",
          "text": [
            "Intento 1 - Ingresa tu número: 7\n",
            "El número secreto es mayor.\n",
            "Intento 2 - Ingresa tu número: 3\n",
            "El número secreto es mayor.\n",
            "Intento 3 - Ingresa tu número: 30\n",
            "¡Felicidades! Has adivinado el número secreto: 30\n"
          ]
        }
      ]
    },
    {
      "cell_type": "markdown",
      "source": [
        "\n",
        "Ejercicio 6: Calculadora de Factorial\n",
        "Descripción:\n",
        "Crea una función que calcule el factorial de un número entero ingresado por el usuario.\n",
        "\n",
        "La función debe utilizar estructuras de control para iterar (o una solución recursiva) y calcular el factorial.\n",
        "Implementa manejo de excepciones para asegurarte de que el número ingresado es entero y no negativo.\n",
        "Ejemplo de salida:\n",
        "Ingrese un número entero para calcular su factorial: 5 El factorial de 5 es 120"
      ],
      "metadata": {
        "id": "CzkKj7S9MSNP"
      }
    },
    {
      "cell_type": "code",
      "source": [
        "\n",
        "def calcular_factorial(n):\n",
        "    if n < 0:\n",
        "        return \"Error: El número no puede ser negativo.\"\n",
        "    factorial = 1\n",
        "    for i in range(1, n + 1):\n",
        "        factorial *= i\n",
        "    return factorial\n",
        "\n",
        "try:\n",
        "    numero = int(input(\"Ingrese un número entero para calcular su factorial: \"))\n",
        "    print(f\"El factorial de {numero} es {calcular_factorial(numero)}\")\n",
        "except ValueError:\n",
        "    print(\"Por favor, ingrese un número entero válido.\")"
      ],
      "metadata": {
        "colab": {
          "base_uri": "https://localhost:8080/"
        },
        "id": "4DXzTjriMVZH",
        "outputId": "1ac86dcf-e273-4212-e759-abf5b8ec4666"
      },
      "execution_count": 8,
      "outputs": [
        {
          "output_type": "stream",
          "name": "stdout",
          "text": [
            "Ingrese un número entero para calcular su factorial: 30\n",
            "El factorial de 30 es 265252859812191058636308480000000\n"
          ]
        }
      ]
    },
    {
      "cell_type": "markdown",
      "source": [
        "**Ejercicio 7: Manejo de Fechas y Horas**\n",
        "\n",
        "Descripción:\n",
        "Desarrolla una función que reciba una fecha ingresada por el usuario en formato \"DD/MM/AAAA\" y determine cuántos días faltan para esa fecha a partir de hoy.\n",
        "\n",
        "Importa el módulo datetime para trabajar con fechas.\n",
        "Utiliza estructuras de control para validar el formato y maneja excepciones en caso de error en el ingreso de la fecha.\n",
        "Ejemplo de salida:\n",
        "Ingrese una fecha (DD/MM/AAAA): 25/12/2023 Faltan 150 días para el 25/12/2023."
      ],
      "metadata": {
        "id": "5X18qmNvMh4A"
      }
    },
    {
      "cell_type": "code",
      "source": [
        "\n",
        "from datetime import datetime\n",
        "\n",
        "fecha_str = input(\"Ingrese una fecha (DD/MM/AAAA): \")\n",
        "\n",
        "try:\n",
        "    fecha = datetime.strptime(fecha_str, \"%d/%m/%Y\")\n",
        "    hoy = datetime.today()\n",
        "    dias_faltantes = (fecha - hoy).days\n",
        "    if dias_faltantes >= 0:\n",
        "        print(f\"Faltan {dias_faltantes} días para el {fecha_str}.\")\n",
        "    else:\n",
        "        print(f\"La fecha {fecha_str} ya pasó.\")\n",
        "except ValueError:\n",
        "    print(\"Error: Formato de fecha incorrecto.\")"
      ],
      "metadata": {
        "colab": {
          "base_uri": "https://localhost:8080/"
        },
        "id": "ZmOCy9vkM1EA",
        "outputId": "98fed810-fafc-4155-bdec-a79ba564c591"
      },
      "execution_count": 11,
      "outputs": [
        {
          "output_type": "stream",
          "name": "stdout",
          "text": [
            "Ingrese una fecha (DD/MM/AAAA): 16/08/2026\n",
            "Faltan 477 días para el 16/08/2026.\n"
          ]
        }
      ]
    },
    {
      "cell_type": "markdown",
      "source": [
        "**Ejercicio 8: Registro de Estudiantes**\n",
        "\n",
        "Descripción:\n",
        "Implementa un sistema que gestione un registro de estudiantes utilizando un diccionario, donde la clave sea el nombre y el valor la calificación.\n",
        "\n",
        "Crea funciones para agregar un estudiante, actualizar la calificación, eliminar estudiantes y listar todo el registro.\n",
        "Utiliza un bucle para mostrar un menú interactivo al usuario.\n",
        "Maneja excepciones para gestionar errores en la selección de opciones o al intentar modificar un estudiante inexistente.\n",
        "Ejemplo de salida:\n",
        "Registro de estudiantes inicial: {'Ana': 90, 'Luis': 78, 'Carlos': 85}\n",
        "\n",
        "Menú:\n",
        "\n",
        "Agregar estudiante\n",
        "\n",
        "Actualizar calificación\n",
        "\n",
        "Eliminar estudiante\n",
        "\n",
        "Listar estudiantes\n",
        "\n",
        "Salir\n",
        "\n",
        "Opción: 2 Ingrese el nombre del estudiante: Luis Ingrese la nueva calificación: 82 Estudiante actualizado: Luis - 82\n",
        "\n",
        "Registro final: {'Ana': 90, 'Luis': 82, 'Carlos': 85}"
      ],
      "metadata": {
        "id": "46yVICNVNMWA"
      }
    },
    {
      "cell_type": "code",
      "source": [
        "\n",
        "registro = {'Ana': 90, 'Luis': 78, 'Carlos': 85}\n",
        "\n",
        "def agregar_estudiante(nombre, calificacion):\n",
        "    registro[nombre] = calificacion\n",
        "\n",
        "def actualizar_calificacion(nombre, calificacion):\n",
        "    if nombre in registro:\n",
        "        registro[nombre] = calificacion\n",
        "    else:\n",
        "        print(\"Error: Estudiante no encontrado.\")\n",
        "\n",
        "def eliminar_estudiante(nombre):\n",
        "    if nombre in registro:\n",
        "        del registro[nombre]\n",
        "    else:\n",
        "        print(\"Error: Estudiante no encontrado.\")\n",
        "\n",
        "def listar_estudiantes():\n",
        "    for nombre, calificacion in registro.items():\n",
        "        print(f\"{nombre}: {calificacion}\")\n",
        "\n",
        "while True:\n",
        "    print(\"\\nMenú:\")\n",
        "    print(\"1. Agregar estudiante\")\n",
        "    print(\"2. Actualizar calificación\")\n",
        "    print(\"3. Eliminar estudiante\")\n",
        "    print(\"4. Listar estudiantes\")\n",
        "    print(\"5. Salir\")\n",
        "\n",
        "    opcion = input(\"Opción: \")\n",
        "\n",
        "    if opcion == '1':\n",
        "        nombre = input(\"Ingrese el nombre del estudiante: \")\n",
        "        calificacion = int(input(\"Ingrese la calificación: \"))\n",
        "        agregar_estudiante(nombre, calificacion)\n",
        "    elif opcion == '2':\n",
        "        nombre = input(\"Ingrese el nombre del estudiante: \")\n",
        "        if nombre in registro:\n",
        "            calificacion = int(input(\"Ingrese la nueva calificación: \"))\n",
        "            actualizar_calificacion(nombre, calificacion)\n",
        "            print(f\"Estudiante actualizado: {nombre} - {registro[nombre]}\")\n",
        "        else:\n",
        "            print(\"Error: Estudiante no encontrado.\")\n",
        "    elif opcion == '3':\n",
        "        nombre = input(\"Ingrese el nombre del estudiante: \")\n",
        "        eliminar_estudiante(nombre)\n",
        "    elif opcion == '4':\n",
        "        listar_estudiantes()\n",
        "    elif opcion == '5':\n",
        "        break\n",
        "    else:\n",
        "        print(\"Opción no válida.\")"
      ],
      "metadata": {
        "id": "F6yHlJjxNQfg"
      },
      "execution_count": null,
      "outputs": []
    },
    {
      "cell_type": "markdown",
      "source": [
        "**Ejercicio 9: Generador de Contraseñas Aleatorias*\n",
        "\n",
        "Descripción:\n",
        "Crea una función que genere una contraseña aleatoria de una longitud especificada por el usuario.\n",
        "\n",
        "Utiliza el módulo random junto con la biblioteca string para construir la contraseña a partir de letras (mayúsculas y minúsculas), dígitos y caracteres especiales.\n",
        "Valida la entrada y maneja excepciones para asegurarte de que la longitud es un número entero positivo.\n",
        "Ejemplo de salida:\n",
        "Ingrese la longitud deseada para la contraseña: 10 Contraseña generada: A8b#K3d!Qz"
      ],
      "metadata": {
        "id": "myIIrSyPNYYf"
      }
    },
    {
      "cell_type": "code",
      "source": [
        "import random\n",
        "import string\n",
        "\n",
        "def generar_contraseña(longitud):\n",
        "    caracteres = string.ascii_letters + string.digits + string.punctuation\n",
        "    return ''.join(random.choice(caracteres) for _ in range(longitud))\n",
        "\n",
        "try:\n",
        "    longitud = int(input(\"Ingrese la longitud deseada para la contraseña: \"))\n",
        "    if longitud > 0:\n",
        "        print(\"Contraseña generada:\", generar_contraseña(longitud))\n",
        "    else:\n",
        "        print(\"La longitud debe ser un número positivo.\")\n",
        "except ValueError:\n",
        "    print(\"Por favor, ingrese un número entero positivo.\")\n"
      ],
      "metadata": {
        "colab": {
          "base_uri": "https://localhost:8080/"
        },
        "id": "zm97ulMmNhNv",
        "outputId": "1d75f960-9740-43b7-dc60-d6a1130af131"
      },
      "execution_count": 12,
      "outputs": [
        {
          "output_type": "stream",
          "name": "stdout",
          "text": [
            "Ingrese la longitud deseada para la contraseña: 7\n",
            "Contraseña generada: %H2(8kQ\n"
          ]
        }
      ]
    },
    {
      "cell_type": "markdown",
      "source": [
        "**Ejercicio 10: Buscador de Archivos en un Directorio**\n",
        "\n",
        "Descripción:\n",
        "Desarrolla una función que reciba el nombre de un directorio y una subcadena para buscar archivos cuyo nombre la contenga.\n",
        "\n",
        "Utiliza el módulo os para listar el contenido del directorio.\n",
        "Aplica estructuras de control para filtrar los archivos según la subcadena.\n",
        "Implementa manejo de excepciones para controlar errores como directorio no existente o permisos insuficientes.\n",
        "Ejemplo de salida:\n",
        "Ingrese la ruta del directorio: /ruta/al/directorio Ingrese la subcadena a buscar: reporte Archivos encontrados que contienen \"reporte\":\n",
        "\n",
        "reporte_enero.pdf\n",
        "\n",
        "reporte_febrero.xlsx\n",
        "\n",
        "resumen_reporte.txt"
      ],
      "metadata": {
        "id": "92Q9StTYNwqw"
      }
    },
    {
      "cell_type": "code",
      "source": [
        "\n",
        "import os\n",
        "\n",
        "def buscar_archivos(ruta, subcadena):\n",
        "    try:\n",
        "        archivos = os.listdir(ruta)\n",
        "        encontrados = [f for f in archivos if subcadena in f]\n",
        "        if encontrados:\n",
        "            print(f'\\nArchivos que contienen \"{subcadena}\":')\n",
        "            for archivo in encontrados:\n",
        "                print(archivo)\n",
        "        else:\n",
        "            print(f'No se encontraron archivos con \"{subcadena}\".')\n",
        "    except FileNotFoundError:\n",
        "        print(\"El directorio no existe.\")\n",
        "    except PermissionError:\n",
        "        print(\"No tienes permisos para acceder a este directorio.\")\n",
        "\n",
        "ruta = input(\"Ingrese la ruta del directorio: \")\n",
        "sub = input(\"Ingrese la subcadena a buscar: \")\n",
        "buscar_archivos(ruta, sub)"
      ],
      "metadata": {
        "id": "0NvbNBuWNzjX"
      },
      "execution_count": null,
      "outputs": []
    }
  ]
}