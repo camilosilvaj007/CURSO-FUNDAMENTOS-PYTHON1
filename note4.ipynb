{
  "cells": [
    {
      "cell_type": "markdown",
      "metadata": {
        "id": "i8yWEm-7Keab"
      },
      "source": [
        "1.Leer una frase y devolver el conjunto de caracteres diferentes que se encuentran presentes en la frase leída."
      ]
    },
    {
      "cell_type": "code",
      "execution_count": null,
      "metadata": {
        "colab": {
          "base_uri": "https://localhost:8080/"
        },
        "id": "bK0O1NrBKnWp",
        "outputId": "1b63b816-4354-4413-e5a7-e43371ade37f"
      },
      "outputs": [
        {
          "name": "stdout",
          "output_type": "stream",
          "text": [
            "ingrese una frase: camilo\n",
            "caracteres diferentes {'a', 'o', 'l', 'm', 'c', 'i'}\n"
          ]
        }
      ],
      "source": [
        "frase = input(\"ingrese una frase: \")\n",
        "caracteres_diferentes = set(frase)\n",
        "for c in frase:\n",
        "  caracteres_diferentes.add(c)\n",
        "print(\"caracteres diferentes\", caracteres_diferentes)"
      ]
    },
    {
      "cell_type": "markdown",
      "metadata": {
        "id": "f8o-mr7AK4Fz"
      },
      "source": [
        "2.En una escuela se permite la inscripción de sus alumnos a las siguientes actividades deportivas: futbol (f), baloncesto (b). Realice un programa que permita ingresar el nombre de sus estudiantes e inscribir a cada uno en uno o los dos deportes."
      ]
    },
    {
      "cell_type": "code",
      "execution_count": null,
      "metadata": {
        "colab": {
          "base_uri": "https://localhost:8080/"
        },
        "id": "rW1k_I1mNMtz",
        "outputId": "0867338e-7bd4-47b1-a9a4-be5fe81f0f83"
      },
      "outputs": [
        {
          "name": "stdout",
          "output_type": "stream",
          "text": [
            "\n",
            "Selecciona una opción del 1 al 7\n",
            "1. Inscribir estudiante\n",
            "2. Estudiantes en fútbol\n",
            "3. Estudiantes en baloncesto\n",
            "4. Estudiantes en ambos deportes\n",
            "5. Todos los inscritos\n",
            "6. Estudiantes en solo un deporte\n",
            "7. Salir del sistema\n"
          ]
        }
      ],
      "source": [
        "futbol = set()\n",
        "baloncesto = set()\n",
        "\n",
        "while True:\n",
        "    print(\"\\nSelecciona una opción del 1 al 7\")\n",
        "    print(\"1. Inscribir estudiante\")\n",
        "    print(\"2. Estudiantes en fútbol\")\n",
        "    print(\"3. Estudiantes en baloncesto\")\n",
        "    print(\"4. Estudiantes en ambos deportes\")\n",
        "    print(\"5. Todos los inscritos\")\n",
        "    print(\"6. Estudiantes en solo un deporte\")\n",
        "    print(\"7. Salir del sistema\")\n",
        "\n",
        "    opcion = input(\"Opción: \")\n",
        "\n",
        "    if opcion == \"1\":\n",
        "        nombre = input(\"Nombre del estudiante: \")\n",
        "        deportes = input(\"Inscribir en (f/b/fb): \")\n",
        "\n",
        "        if  deportes == \"f\":\n",
        "            futbol.add(nombre)\n",
        "        elif deportes == \"b\":\n",
        "            baloncesto.add(nombre)\n",
        "        elif deportes == \"fb\":\n",
        "            futbol.add(nombre)\n",
        "            baloncesto.add(nombre)\n",
        "        else:\n",
        "            print(\"Opción inválida. Usa f, b o fb.\")\n",
        "\n",
        "    elif opcion == \"2\":\n",
        "        if not futbol:\n",
        "            print(\"No hay estudiantes inscritos en fútbol. \")\n",
        "        else:\n",
        "            print(\"Estudiantes en fútbol: \", futbol)\n",
        "\n",
        "    elif opcion == \"3\":\n",
        "        if not baloncesto:\n",
        "            print(\"No hay estudiantes inscritos en baloncesto. \")\n",
        "        else:\n",
        "            print(\"Estudiantes en baloncesto:\", baloncesto )\n",
        "\n",
        "    elif opcion == \"4\":\n",
        "        ambos = futbol.intersection (baloncesto)\n",
        "        if not ambos:\n",
        "            print(\"No hay estudiantes inscritos en ambos deportes. \")\n",
        "        else:\n",
        "            print(\"Estudiantes en ambos deportes: \", ambos)\n",
        "\n",
        "    elif opcion == \"5\":\n",
        "        todos = futbol.union(baloncesto)\n",
        "        if not todos:\n",
        "            print(\"No hay estudiantes inscritos en ningún deporte. \")\n",
        "        else:\n",
        "            print(\"Todos los estudiantes inscritos: \", todos)\n",
        "\n",
        "    elif opcion == \"6\":\n",
        "        solo_uno = futbol.symmetric_difference(baloncesto)\n",
        "        if not solo_uno:\n",
        "            print(\"No hay estudiantes inscritos en solo un deporte.\")\n",
        "        else:\n",
        "            print(\"Estudiantes en solo un deporte: \")\n",
        "\n",
        "    elif opcion == \"7\":\n",
        "        print(\"Gracias por usar nuestro sistema. \")\n",
        "        break\n",
        "\n",
        "    else:\n",
        "        print(\"Debes seleccionar una opción del 1 al 7. \")\n"
      ]
    },
    {
      "cell_type": "markdown",
      "metadata": {
        "id": "wBWKzSFdrmnW"
      },
      "source": [
        "Realice un programa traductor de frutas del español al inglés. Para ello, solicite el nombre de una fruta al usuario y muestre su traducción al inglés. Si la fruta no se encuentra en el diccionario, permítale al usuario agregarla con su respectiva traducción. El programa solo termina cuando el usuario ingresa una fruta que no está en el diccionario y no desea agregarla."
      ]
    },
    {
      "cell_type": "code",
      "execution_count": null,
      "metadata": {
        "colab": {
          "background_save": true,
          "base_uri": "https://localhost:8080/"
        },
        "id": "vucN8nsIrqM-",
        "outputId": "a0a006ab-bdfd-4a49-8a68-527b3a1de995"
      },
      "outputs": [
        {
          "name": "stdout",
          "output_type": "stream",
          "text": [
            "La traducción de 'manzana' es: apple\n"
          ]
        }
      ],
      "source": [
        "frutas = {\"manzana\": \"apple\", \"plátano\": \"banana\", \"naranja\": \"orange\"}\n",
        "\n",
        "while True:\n",
        "    fruta = input(\"Ingrese el nombre de una fruta en español: \")\n",
        "\n",
        "    if fruta in frutas:\n",
        "        print(f\"La traducción de '{fruta}' es: {frutas[fruta]}\")\n",
        "    else:\n",
        "        print(f\"La fruta '{fruta}' no está en el diccionario.\")\n",
        "        agregar = input(\"¿Desea agregarla? (si/no): \")\n",
        "\n",
        "        if agregar == \"si\":\n",
        "            traduccion = input(f\"Ingrese la traducción de '{fruta}' al inglés: \")\n",
        "            frutas[fruta] = traduccion\n",
        "            print(f\"'{fruta}' ha sido agregada al diccionario.\")\n",
        "        else:\n",
        "            print(\"Gracias por usar el traductor.\")\n",
        "            break"
      ]
    },
    {
      "cell_type": "markdown",
      "source": [
        "#APROPIACION"
      ],
      "metadata": {
        "id": "AWJBTIRlFe-S"
      }
    },
    {
      "cell_type": "markdown",
      "source": [
        "Realiza una función que tome una lista de números enteros y devuelva dos listas ordenadas. La primera con los números pares y la segunda con los números impares."
      ],
      "metadata": {
        "id": "XFTQ0QfoFZzK"
      }
    },
    {
      "cell_type": "code",
      "source": [
        "def separar_pares_impares(lista):\n",
        "    pares = []\n",
        "    impares = []\n",
        "\n",
        "    for numero in lista:\n",
        "        if numero % 2 == 0:\n",
        "            pares.append(numero)\n",
        "        else:\n",
        "            impares.append(numero)\n",
        "\n",
        "    return sorted(pares), sorted(impares)\n",
        "\n",
        "numeros = [5, 2, 9, 1, 4, 6, 3, 8, 7, 10]\n",
        "pares_ordenados, impares_ordenados = separar_pares_impares(numeros)\n",
        "\n",
        "print(\"Pares:\", pares_ordenados)\n",
        "print(\"Impares:\", impares_ordenados)\n"
      ],
      "metadata": {
        "colab": {
          "base_uri": "https://localhost:8080/"
        },
        "id": "4WAo0SH8Fdem",
        "outputId": "d72bbfb1-438d-4f91-a5c3-2dacbae4cb63"
      },
      "execution_count": 1,
      "outputs": [
        {
          "output_type": "stream",
          "name": "stdout",
          "text": [
            "Pares: [2, 4, 6, 8, 10]\n",
            "Impares: [1, 3, 5, 7, 9]\n"
          ]
        }
      ]
    },
    {
      "cell_type": "markdown",
      "source": [
        "Realiza una función que reciba una palabra y devuelva un diccionario donde las claves sean las diferentes letras que se encuentran en la palabra y los valores sean el número de veces que se repite cada letra en la palabra"
      ],
      "metadata": {
        "id": "izx4VFmyGxyK"
      }
    },
    {
      "cell_type": "code",
      "source": [
        "def contar_letras(palabra):\n",
        "\n",
        "    frecuencia = {}\n",
        "\n",
        "    for letra in palabra:\n",
        "        if letra in frecuencia:\n",
        "            frecuencia[letra] += 1\n",
        "        else:\n",
        "            frecuencia[letra] = 1\n",
        "\n",
        "    return frecuencia\n",
        "\n",
        "palabra_usuario = input(\"Ingresa una palabra: \")\n",
        "\n",
        "resultado = contar_letras(palabra_usuario)\n",
        "\n",
        "print(\"\\nFrecuencia de letras:\")\n",
        "for letra, cantidad in resultado.items():\n",
        "    print(f\"'{letra}': {cantidad}\")\n"
      ],
      "metadata": {
        "colab": {
          "base_uri": "https://localhost:8080/"
        },
        "id": "zE1Vu8bZGy2I",
        "outputId": "cc5f56ac-4186-4c01-f2e1-7cb8037d9608"
      },
      "execution_count": 5,
      "outputs": [
        {
          "output_type": "stream",
          "name": "stdout",
          "text": [
            "Ingresa una palabra: silva\n",
            "\n",
            "Frecuencia de letras:\n",
            "'s': 1\n",
            "'i': 1\n",
            "'l': 1\n",
            "'v': 1\n",
            "'a': 1\n"
          ]
        }
      ]
    },
    {
      "cell_type": "markdown",
      "source": [
        "Realiza una función que reciba un número y devuelva una cadena con los nombres de los números recibidos, separando cada número con un guión medio. Por ejemplo, si el número recibido es 134, la función devolverá la cadena \"uno - tres - cuatro\""
      ],
      "metadata": {
        "id": "BRvDeCoOIHih"
      }
    },
    {
      "cell_type": "code",
      "source": [
        "def numero_a_texto(numero):\n",
        "\n",
        "    nombres_digitos = {\n",
        "        '0': 'cero',\n",
        "        '1': 'uno',\n",
        "        '2': 'dos',\n",
        "        '3': 'tres',\n",
        "        '4': 'cuatro',\n",
        "        '5': 'cinco',\n",
        "        '6': 'seis',\n",
        "        '7': 'siete',\n",
        "        '8': 'ocho',\n",
        "        '9': 'nueve'\n",
        "    }\n",
        "\n",
        "    numero_str = str(numero)\n",
        "    nombres = [nombres_digitos[d] for d in numero_str]\n",
        "\n",
        "    resultado = \" - \".join(nombres)\n",
        "\n",
        "    return resultado\n",
        "\n",
        "numero_usuario = input(\"Ingresa un número: \")\n",
        "\n",
        "print(\"\\nNúmero en palabras:\")\n",
        "print(numero_a_texto(numero_usuario))\n"
      ],
      "metadata": {
        "colab": {
          "base_uri": "https://localhost:8080/"
        },
        "id": "A9aHVjjsIIeh",
        "outputId": "2abd127c-fb36-49f5-f104-997aa5b9ef9e"
      },
      "execution_count": 7,
      "outputs": [
        {
          "output_type": "stream",
          "name": "stdout",
          "text": [
            "Ingresa un número: 142\n",
            "\n",
            "Número en palabras:\n",
            "uno - cuatro - dos\n"
          ]
        }
      ]
    }
  ],
  "metadata": {
    "colab": {
      "provenance": []
    },
    "kernelspec": {
      "display_name": "Python 3",
      "name": "python3"
    },
    "language_info": {
      "name": "python"
    }
  },
  "nbformat": 4,
  "nbformat_minor": 0
}